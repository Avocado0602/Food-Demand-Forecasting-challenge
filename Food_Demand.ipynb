{
  "cells": [
    {
      "cell_type": "code",
      "source": [
        "pip install catboost"
      ],
      "metadata": {
        "colab": {
          "base_uri": "https://localhost:8080/"
        },
        "id": "s5dz2Q3pfWrf",
        "outputId": "f39f6af9-6930-4d50-a7dd-548bc6d1f1ce"
      },
      "execution_count": 271,
      "outputs": [
        {
          "output_type": "stream",
          "name": "stdout",
          "text": [
            "Requirement already satisfied: catboost in /usr/local/lib/python3.7/dist-packages (1.0.4)\n",
            "Requirement already satisfied: graphviz in /usr/local/lib/python3.7/dist-packages (from catboost) (0.10.1)\n",
            "Requirement already satisfied: plotly in /usr/local/lib/python3.7/dist-packages (from catboost) (5.5.0)\n",
            "Requirement already satisfied: pandas>=0.24.0 in /usr/local/lib/python3.7/dist-packages (from catboost) (1.3.5)\n",
            "Requirement already satisfied: six in /usr/local/lib/python3.7/dist-packages (from catboost) (1.15.0)\n",
            "Requirement already satisfied: numpy>=1.16.0 in /usr/local/lib/python3.7/dist-packages (from catboost) (1.21.5)\n",
            "Requirement already satisfied: matplotlib in /usr/local/lib/python3.7/dist-packages (from catboost) (3.2.2)\n",
            "Requirement already satisfied: scipy in /usr/local/lib/python3.7/dist-packages (from catboost) (1.4.1)\n",
            "Requirement already satisfied: python-dateutil>=2.7.3 in /usr/local/lib/python3.7/dist-packages (from pandas>=0.24.0->catboost) (2.8.2)\n",
            "Requirement already satisfied: pytz>=2017.3 in /usr/local/lib/python3.7/dist-packages (from pandas>=0.24.0->catboost) (2018.9)\n",
            "Requirement already satisfied: kiwisolver>=1.0.1 in /usr/local/lib/python3.7/dist-packages (from matplotlib->catboost) (1.3.2)\n",
            "Requirement already satisfied: pyparsing!=2.0.4,!=2.1.2,!=2.1.6,>=2.0.1 in /usr/local/lib/python3.7/dist-packages (from matplotlib->catboost) (3.0.7)\n",
            "Requirement already satisfied: cycler>=0.10 in /usr/local/lib/python3.7/dist-packages (from matplotlib->catboost) (0.11.0)\n",
            "Requirement already satisfied: tenacity>=6.2.0 in /usr/local/lib/python3.7/dist-packages (from plotly->catboost) (8.0.1)\n"
          ]
        }
      ]
    },
    {
      "cell_type": "code",
      "execution_count": 272,
      "metadata": {
        "id": "4QYcGoKUTEcz"
      },
      "outputs": [],
      "source": [
        "import pandas as pd\n",
        "import matplotlib.pyplot as plt\n",
        "import seaborn as sns\n",
        "from sklearn.metrics import mean_squared_log_error\n",
        "import numpy as np\n",
        "from sklearn.model_selection import train_test_split\n",
        "from sklearn.linear_model import LinearRegression\n",
        "from sklearn.preprocessing import StandardScaler, MinMaxScaler, LabelEncoder, OneHotEncoder\n",
        "from sklearn.model_selection import cross_val_score\n",
        "from sklearn.linear_model import Ridge, Lasso\n",
        "from sklearn.ensemble import RandomForestRegressor\n",
        "from sklearn.model_selection import GridSearchCV\n",
        "import xgboost as xgb\n",
        "from lightgbm import LGBMRegressor\n",
        "from sklearn.tree import DecisionTreeRegressor\n",
        "from catboost import CatBoostRegressor"
      ]
    },
    {
      "cell_type": "code",
      "execution_count": 3,
      "metadata": {
        "colab": {
          "base_uri": "https://localhost:8080/"
        },
        "id": "DqInX1JYTIJB",
        "outputId": "2f084b5b-661a-4b69-8551-71bce225aa01"
      },
      "outputs": [
        {
          "output_type": "stream",
          "name": "stdout",
          "text": [
            "Mounted at /content/drive\n"
          ]
        }
      ],
      "source": [
        "from google.colab import drive\n",
        "drive.mount('/content/drive')"
      ]
    },
    {
      "cell_type": "markdown",
      "metadata": {
        "id": "NnIPnx-fTB51"
      },
      "source": [
        "## A. READ DATA"
      ]
    },
    {
      "cell_type": "markdown",
      "metadata": {
        "id": "T5DBLHxbUj3n"
      },
      "source": [
        "I. MEAL INFO"
      ]
    },
    {
      "cell_type": "code",
      "execution_count": 273,
      "metadata": {
        "colab": {
          "base_uri": "https://localhost:8080/",
          "height": 206
        },
        "id": "kLAoWc7CSw_t",
        "outputId": "caeaba50-e8d8-4aec-8325-976b2cfa7c97"
      },
      "outputs": [
        {
          "output_type": "execute_result",
          "data": {
            "text/html": [
              "\n",
              "  <div id=\"df-bcfa3014-f5b9-4fb9-ad49-6a3282f90b20\">\n",
              "    <div class=\"colab-df-container\">\n",
              "      <div>\n",
              "<style scoped>\n",
              "    .dataframe tbody tr th:only-of-type {\n",
              "        vertical-align: middle;\n",
              "    }\n",
              "\n",
              "    .dataframe tbody tr th {\n",
              "        vertical-align: top;\n",
              "    }\n",
              "\n",
              "    .dataframe thead th {\n",
              "        text-align: right;\n",
              "    }\n",
              "</style>\n",
              "<table border=\"1\" class=\"dataframe\">\n",
              "  <thead>\n",
              "    <tr style=\"text-align: right;\">\n",
              "      <th></th>\n",
              "      <th>meal_id</th>\n",
              "      <th>category</th>\n",
              "      <th>cuisine</th>\n",
              "    </tr>\n",
              "  </thead>\n",
              "  <tbody>\n",
              "    <tr>\n",
              "      <th>0</th>\n",
              "      <td>1885</td>\n",
              "      <td>Beverages</td>\n",
              "      <td>Thai</td>\n",
              "    </tr>\n",
              "    <tr>\n",
              "      <th>1</th>\n",
              "      <td>1993</td>\n",
              "      <td>Beverages</td>\n",
              "      <td>Thai</td>\n",
              "    </tr>\n",
              "    <tr>\n",
              "      <th>2</th>\n",
              "      <td>2539</td>\n",
              "      <td>Beverages</td>\n",
              "      <td>Thai</td>\n",
              "    </tr>\n",
              "    <tr>\n",
              "      <th>3</th>\n",
              "      <td>1248</td>\n",
              "      <td>Beverages</td>\n",
              "      <td>Indian</td>\n",
              "    </tr>\n",
              "    <tr>\n",
              "      <th>4</th>\n",
              "      <td>2631</td>\n",
              "      <td>Beverages</td>\n",
              "      <td>Indian</td>\n",
              "    </tr>\n",
              "  </tbody>\n",
              "</table>\n",
              "</div>\n",
              "      <button class=\"colab-df-convert\" onclick=\"convertToInteractive('df-bcfa3014-f5b9-4fb9-ad49-6a3282f90b20')\"\n",
              "              title=\"Convert this dataframe to an interactive table.\"\n",
              "              style=\"display:none;\">\n",
              "        \n",
              "  <svg xmlns=\"http://www.w3.org/2000/svg\" height=\"24px\"viewBox=\"0 0 24 24\"\n",
              "       width=\"24px\">\n",
              "    <path d=\"M0 0h24v24H0V0z\" fill=\"none\"/>\n",
              "    <path d=\"M18.56 5.44l.94 2.06.94-2.06 2.06-.94-2.06-.94-.94-2.06-.94 2.06-2.06.94zm-11 1L8.5 8.5l.94-2.06 2.06-.94-2.06-.94L8.5 2.5l-.94 2.06-2.06.94zm10 10l.94 2.06.94-2.06 2.06-.94-2.06-.94-.94-2.06-.94 2.06-2.06.94z\"/><path d=\"M17.41 7.96l-1.37-1.37c-.4-.4-.92-.59-1.43-.59-.52 0-1.04.2-1.43.59L10.3 9.45l-7.72 7.72c-.78.78-.78 2.05 0 2.83L4 21.41c.39.39.9.59 1.41.59.51 0 1.02-.2 1.41-.59l7.78-7.78 2.81-2.81c.8-.78.8-2.07 0-2.86zM5.41 20L4 18.59l7.72-7.72 1.47 1.35L5.41 20z\"/>\n",
              "  </svg>\n",
              "      </button>\n",
              "      \n",
              "  <style>\n",
              "    .colab-df-container {\n",
              "      display:flex;\n",
              "      flex-wrap:wrap;\n",
              "      gap: 12px;\n",
              "    }\n",
              "\n",
              "    .colab-df-convert {\n",
              "      background-color: #E8F0FE;\n",
              "      border: none;\n",
              "      border-radius: 50%;\n",
              "      cursor: pointer;\n",
              "      display: none;\n",
              "      fill: #1967D2;\n",
              "      height: 32px;\n",
              "      padding: 0 0 0 0;\n",
              "      width: 32px;\n",
              "    }\n",
              "\n",
              "    .colab-df-convert:hover {\n",
              "      background-color: #E2EBFA;\n",
              "      box-shadow: 0px 1px 2px rgba(60, 64, 67, 0.3), 0px 1px 3px 1px rgba(60, 64, 67, 0.15);\n",
              "      fill: #174EA6;\n",
              "    }\n",
              "\n",
              "    [theme=dark] .colab-df-convert {\n",
              "      background-color: #3B4455;\n",
              "      fill: #D2E3FC;\n",
              "    }\n",
              "\n",
              "    [theme=dark] .colab-df-convert:hover {\n",
              "      background-color: #434B5C;\n",
              "      box-shadow: 0px 1px 3px 1px rgba(0, 0, 0, 0.15);\n",
              "      filter: drop-shadow(0px 1px 2px rgba(0, 0, 0, 0.3));\n",
              "      fill: #FFFFFF;\n",
              "    }\n",
              "  </style>\n",
              "\n",
              "      <script>\n",
              "        const buttonEl =\n",
              "          document.querySelector('#df-bcfa3014-f5b9-4fb9-ad49-6a3282f90b20 button.colab-df-convert');\n",
              "        buttonEl.style.display =\n",
              "          google.colab.kernel.accessAllowed ? 'block' : 'none';\n",
              "\n",
              "        async function convertToInteractive(key) {\n",
              "          const element = document.querySelector('#df-bcfa3014-f5b9-4fb9-ad49-6a3282f90b20');\n",
              "          const dataTable =\n",
              "            await google.colab.kernel.invokeFunction('convertToInteractive',\n",
              "                                                     [key], {});\n",
              "          if (!dataTable) return;\n",
              "\n",
              "          const docLinkHtml = 'Like what you see? Visit the ' +\n",
              "            '<a target=\"_blank\" href=https://colab.research.google.com/notebooks/data_table.ipynb>data table notebook</a>'\n",
              "            + ' to learn more about interactive tables.';\n",
              "          element.innerHTML = '';\n",
              "          dataTable['output_type'] = 'display_data';\n",
              "          await google.colab.output.renderOutput(dataTable, element);\n",
              "          const docLink = document.createElement('div');\n",
              "          docLink.innerHTML = docLinkHtml;\n",
              "          element.appendChild(docLink);\n",
              "        }\n",
              "      </script>\n",
              "    </div>\n",
              "  </div>\n",
              "  "
            ],
            "text/plain": [
              "   meal_id   category cuisine\n",
              "0     1885  Beverages    Thai\n",
              "1     1993  Beverages    Thai\n",
              "2     2539  Beverages    Thai\n",
              "3     1248  Beverages  Indian\n",
              "4     2631  Beverages  Indian"
            ]
          },
          "metadata": {},
          "execution_count": 273
        }
      ],
      "source": [
        "meal_info = pd.read_csv('/content/drive/MyDrive/Food Demand/meal_info.csv')\n",
        "meal_info.head(5)"
      ]
    },
    {
      "cell_type": "markdown",
      "metadata": {
        "id": "90oRiDpGUq71"
      },
      "source": [
        "II. FULFILLMENT CENTER INFO"
      ]
    },
    {
      "cell_type": "code",
      "execution_count": 274,
      "metadata": {
        "id": "gJXi5uSpUvJ8"
      },
      "outputs": [],
      "source": [
        "fulfillment_center = pd.read_csv('/content/drive/MyDrive/Food Demand/fulfilment_center_info.csv')"
      ]
    },
    {
      "cell_type": "code",
      "execution_count": 275,
      "metadata": {
        "colab": {
          "base_uri": "https://localhost:8080/",
          "height": 206
        },
        "id": "TRVntQcTU_QJ",
        "outputId": "d3e12fe7-65c6-4b85-86c5-54c2420b5a81"
      },
      "outputs": [
        {
          "output_type": "execute_result",
          "data": {
            "text/html": [
              "\n",
              "  <div id=\"df-d70d05fd-bf16-43c4-bdd6-c54b35a98aed\">\n",
              "    <div class=\"colab-df-container\">\n",
              "      <div>\n",
              "<style scoped>\n",
              "    .dataframe tbody tr th:only-of-type {\n",
              "        vertical-align: middle;\n",
              "    }\n",
              "\n",
              "    .dataframe tbody tr th {\n",
              "        vertical-align: top;\n",
              "    }\n",
              "\n",
              "    .dataframe thead th {\n",
              "        text-align: right;\n",
              "    }\n",
              "</style>\n",
              "<table border=\"1\" class=\"dataframe\">\n",
              "  <thead>\n",
              "    <tr style=\"text-align: right;\">\n",
              "      <th></th>\n",
              "      <th>center_id</th>\n",
              "      <th>city_code</th>\n",
              "      <th>region_code</th>\n",
              "      <th>center_type</th>\n",
              "      <th>op_area</th>\n",
              "    </tr>\n",
              "  </thead>\n",
              "  <tbody>\n",
              "    <tr>\n",
              "      <th>0</th>\n",
              "      <td>11</td>\n",
              "      <td>679</td>\n",
              "      <td>56</td>\n",
              "      <td>TYPE_A</td>\n",
              "      <td>3.7</td>\n",
              "    </tr>\n",
              "    <tr>\n",
              "      <th>1</th>\n",
              "      <td>13</td>\n",
              "      <td>590</td>\n",
              "      <td>56</td>\n",
              "      <td>TYPE_B</td>\n",
              "      <td>6.7</td>\n",
              "    </tr>\n",
              "    <tr>\n",
              "      <th>2</th>\n",
              "      <td>124</td>\n",
              "      <td>590</td>\n",
              "      <td>56</td>\n",
              "      <td>TYPE_C</td>\n",
              "      <td>4.0</td>\n",
              "    </tr>\n",
              "    <tr>\n",
              "      <th>3</th>\n",
              "      <td>66</td>\n",
              "      <td>648</td>\n",
              "      <td>34</td>\n",
              "      <td>TYPE_A</td>\n",
              "      <td>4.1</td>\n",
              "    </tr>\n",
              "    <tr>\n",
              "      <th>4</th>\n",
              "      <td>94</td>\n",
              "      <td>632</td>\n",
              "      <td>34</td>\n",
              "      <td>TYPE_C</td>\n",
              "      <td>3.6</td>\n",
              "    </tr>\n",
              "  </tbody>\n",
              "</table>\n",
              "</div>\n",
              "      <button class=\"colab-df-convert\" onclick=\"convertToInteractive('df-d70d05fd-bf16-43c4-bdd6-c54b35a98aed')\"\n",
              "              title=\"Convert this dataframe to an interactive table.\"\n",
              "              style=\"display:none;\">\n",
              "        \n",
              "  <svg xmlns=\"http://www.w3.org/2000/svg\" height=\"24px\"viewBox=\"0 0 24 24\"\n",
              "       width=\"24px\">\n",
              "    <path d=\"M0 0h24v24H0V0z\" fill=\"none\"/>\n",
              "    <path d=\"M18.56 5.44l.94 2.06.94-2.06 2.06-.94-2.06-.94-.94-2.06-.94 2.06-2.06.94zm-11 1L8.5 8.5l.94-2.06 2.06-.94-2.06-.94L8.5 2.5l-.94 2.06-2.06.94zm10 10l.94 2.06.94-2.06 2.06-.94-2.06-.94-.94-2.06-.94 2.06-2.06.94z\"/><path d=\"M17.41 7.96l-1.37-1.37c-.4-.4-.92-.59-1.43-.59-.52 0-1.04.2-1.43.59L10.3 9.45l-7.72 7.72c-.78.78-.78 2.05 0 2.83L4 21.41c.39.39.9.59 1.41.59.51 0 1.02-.2 1.41-.59l7.78-7.78 2.81-2.81c.8-.78.8-2.07 0-2.86zM5.41 20L4 18.59l7.72-7.72 1.47 1.35L5.41 20z\"/>\n",
              "  </svg>\n",
              "      </button>\n",
              "      \n",
              "  <style>\n",
              "    .colab-df-container {\n",
              "      display:flex;\n",
              "      flex-wrap:wrap;\n",
              "      gap: 12px;\n",
              "    }\n",
              "\n",
              "    .colab-df-convert {\n",
              "      background-color: #E8F0FE;\n",
              "      border: none;\n",
              "      border-radius: 50%;\n",
              "      cursor: pointer;\n",
              "      display: none;\n",
              "      fill: #1967D2;\n",
              "      height: 32px;\n",
              "      padding: 0 0 0 0;\n",
              "      width: 32px;\n",
              "    }\n",
              "\n",
              "    .colab-df-convert:hover {\n",
              "      background-color: #E2EBFA;\n",
              "      box-shadow: 0px 1px 2px rgba(60, 64, 67, 0.3), 0px 1px 3px 1px rgba(60, 64, 67, 0.15);\n",
              "      fill: #174EA6;\n",
              "    }\n",
              "\n",
              "    [theme=dark] .colab-df-convert {\n",
              "      background-color: #3B4455;\n",
              "      fill: #D2E3FC;\n",
              "    }\n",
              "\n",
              "    [theme=dark] .colab-df-convert:hover {\n",
              "      background-color: #434B5C;\n",
              "      box-shadow: 0px 1px 3px 1px rgba(0, 0, 0, 0.15);\n",
              "      filter: drop-shadow(0px 1px 2px rgba(0, 0, 0, 0.3));\n",
              "      fill: #FFFFFF;\n",
              "    }\n",
              "  </style>\n",
              "\n",
              "      <script>\n",
              "        const buttonEl =\n",
              "          document.querySelector('#df-d70d05fd-bf16-43c4-bdd6-c54b35a98aed button.colab-df-convert');\n",
              "        buttonEl.style.display =\n",
              "          google.colab.kernel.accessAllowed ? 'block' : 'none';\n",
              "\n",
              "        async function convertToInteractive(key) {\n",
              "          const element = document.querySelector('#df-d70d05fd-bf16-43c4-bdd6-c54b35a98aed');\n",
              "          const dataTable =\n",
              "            await google.colab.kernel.invokeFunction('convertToInteractive',\n",
              "                                                     [key], {});\n",
              "          if (!dataTable) return;\n",
              "\n",
              "          const docLinkHtml = 'Like what you see? Visit the ' +\n",
              "            '<a target=\"_blank\" href=https://colab.research.google.com/notebooks/data_table.ipynb>data table notebook</a>'\n",
              "            + ' to learn more about interactive tables.';\n",
              "          element.innerHTML = '';\n",
              "          dataTable['output_type'] = 'display_data';\n",
              "          await google.colab.output.renderOutput(dataTable, element);\n",
              "          const docLink = document.createElement('div');\n",
              "          docLink.innerHTML = docLinkHtml;\n",
              "          element.appendChild(docLink);\n",
              "        }\n",
              "      </script>\n",
              "    </div>\n",
              "  </div>\n",
              "  "
            ],
            "text/plain": [
              "   center_id  city_code  region_code center_type  op_area\n",
              "0         11        679           56      TYPE_A      3.7\n",
              "1         13        590           56      TYPE_B      6.7\n",
              "2        124        590           56      TYPE_C      4.0\n",
              "3         66        648           34      TYPE_A      4.1\n",
              "4         94        632           34      TYPE_C      3.6"
            ]
          },
          "metadata": {},
          "execution_count": 275
        }
      ],
      "source": [
        "fulfillment_center.head(5)"
      ]
    },
    {
      "cell_type": "markdown",
      "metadata": {
        "id": "d9lw2cgtVTIP"
      },
      "source": [
        "III. TRAIN DATASET"
      ]
    },
    {
      "cell_type": "code",
      "execution_count": 276,
      "metadata": {
        "id": "dR-oprk4VVIJ"
      },
      "outputs": [],
      "source": [
        "df = pd.read_csv('/content/drive/MyDrive/Food Demand/train.csv')"
      ]
    },
    {
      "cell_type": "code",
      "execution_count": 277,
      "metadata": {
        "colab": {
          "base_uri": "https://localhost:8080/",
          "height": 206
        },
        "id": "puoSdIWNVZ8X",
        "outputId": "34e55768-8b8b-4c4e-c4a1-351257299947"
      },
      "outputs": [
        {
          "output_type": "execute_result",
          "data": {
            "text/html": [
              "\n",
              "  <div id=\"df-827a7e72-e94b-4cb0-9bd3-808000b95ad2\">\n",
              "    <div class=\"colab-df-container\">\n",
              "      <div>\n",
              "<style scoped>\n",
              "    .dataframe tbody tr th:only-of-type {\n",
              "        vertical-align: middle;\n",
              "    }\n",
              "\n",
              "    .dataframe tbody tr th {\n",
              "        vertical-align: top;\n",
              "    }\n",
              "\n",
              "    .dataframe thead th {\n",
              "        text-align: right;\n",
              "    }\n",
              "</style>\n",
              "<table border=\"1\" class=\"dataframe\">\n",
              "  <thead>\n",
              "    <tr style=\"text-align: right;\">\n",
              "      <th></th>\n",
              "      <th>id</th>\n",
              "      <th>week</th>\n",
              "      <th>center_id</th>\n",
              "      <th>meal_id</th>\n",
              "      <th>checkout_price</th>\n",
              "      <th>base_price</th>\n",
              "      <th>emailer_for_promotion</th>\n",
              "      <th>homepage_featured</th>\n",
              "      <th>num_orders</th>\n",
              "    </tr>\n",
              "  </thead>\n",
              "  <tbody>\n",
              "    <tr>\n",
              "      <th>0</th>\n",
              "      <td>1379560</td>\n",
              "      <td>1</td>\n",
              "      <td>55</td>\n",
              "      <td>1885</td>\n",
              "      <td>136.83</td>\n",
              "      <td>152.29</td>\n",
              "      <td>0</td>\n",
              "      <td>0</td>\n",
              "      <td>177</td>\n",
              "    </tr>\n",
              "    <tr>\n",
              "      <th>1</th>\n",
              "      <td>1466964</td>\n",
              "      <td>1</td>\n",
              "      <td>55</td>\n",
              "      <td>1993</td>\n",
              "      <td>136.83</td>\n",
              "      <td>135.83</td>\n",
              "      <td>0</td>\n",
              "      <td>0</td>\n",
              "      <td>270</td>\n",
              "    </tr>\n",
              "    <tr>\n",
              "      <th>2</th>\n",
              "      <td>1346989</td>\n",
              "      <td>1</td>\n",
              "      <td>55</td>\n",
              "      <td>2539</td>\n",
              "      <td>134.86</td>\n",
              "      <td>135.86</td>\n",
              "      <td>0</td>\n",
              "      <td>0</td>\n",
              "      <td>189</td>\n",
              "    </tr>\n",
              "    <tr>\n",
              "      <th>3</th>\n",
              "      <td>1338232</td>\n",
              "      <td>1</td>\n",
              "      <td>55</td>\n",
              "      <td>2139</td>\n",
              "      <td>339.50</td>\n",
              "      <td>437.53</td>\n",
              "      <td>0</td>\n",
              "      <td>0</td>\n",
              "      <td>54</td>\n",
              "    </tr>\n",
              "    <tr>\n",
              "      <th>4</th>\n",
              "      <td>1448490</td>\n",
              "      <td>1</td>\n",
              "      <td>55</td>\n",
              "      <td>2631</td>\n",
              "      <td>243.50</td>\n",
              "      <td>242.50</td>\n",
              "      <td>0</td>\n",
              "      <td>0</td>\n",
              "      <td>40</td>\n",
              "    </tr>\n",
              "  </tbody>\n",
              "</table>\n",
              "</div>\n",
              "      <button class=\"colab-df-convert\" onclick=\"convertToInteractive('df-827a7e72-e94b-4cb0-9bd3-808000b95ad2')\"\n",
              "              title=\"Convert this dataframe to an interactive table.\"\n",
              "              style=\"display:none;\">\n",
              "        \n",
              "  <svg xmlns=\"http://www.w3.org/2000/svg\" height=\"24px\"viewBox=\"0 0 24 24\"\n",
              "       width=\"24px\">\n",
              "    <path d=\"M0 0h24v24H0V0z\" fill=\"none\"/>\n",
              "    <path d=\"M18.56 5.44l.94 2.06.94-2.06 2.06-.94-2.06-.94-.94-2.06-.94 2.06-2.06.94zm-11 1L8.5 8.5l.94-2.06 2.06-.94-2.06-.94L8.5 2.5l-.94 2.06-2.06.94zm10 10l.94 2.06.94-2.06 2.06-.94-2.06-.94-.94-2.06-.94 2.06-2.06.94z\"/><path d=\"M17.41 7.96l-1.37-1.37c-.4-.4-.92-.59-1.43-.59-.52 0-1.04.2-1.43.59L10.3 9.45l-7.72 7.72c-.78.78-.78 2.05 0 2.83L4 21.41c.39.39.9.59 1.41.59.51 0 1.02-.2 1.41-.59l7.78-7.78 2.81-2.81c.8-.78.8-2.07 0-2.86zM5.41 20L4 18.59l7.72-7.72 1.47 1.35L5.41 20z\"/>\n",
              "  </svg>\n",
              "      </button>\n",
              "      \n",
              "  <style>\n",
              "    .colab-df-container {\n",
              "      display:flex;\n",
              "      flex-wrap:wrap;\n",
              "      gap: 12px;\n",
              "    }\n",
              "\n",
              "    .colab-df-convert {\n",
              "      background-color: #E8F0FE;\n",
              "      border: none;\n",
              "      border-radius: 50%;\n",
              "      cursor: pointer;\n",
              "      display: none;\n",
              "      fill: #1967D2;\n",
              "      height: 32px;\n",
              "      padding: 0 0 0 0;\n",
              "      width: 32px;\n",
              "    }\n",
              "\n",
              "    .colab-df-convert:hover {\n",
              "      background-color: #E2EBFA;\n",
              "      box-shadow: 0px 1px 2px rgba(60, 64, 67, 0.3), 0px 1px 3px 1px rgba(60, 64, 67, 0.15);\n",
              "      fill: #174EA6;\n",
              "    }\n",
              "\n",
              "    [theme=dark] .colab-df-convert {\n",
              "      background-color: #3B4455;\n",
              "      fill: #D2E3FC;\n",
              "    }\n",
              "\n",
              "    [theme=dark] .colab-df-convert:hover {\n",
              "      background-color: #434B5C;\n",
              "      box-shadow: 0px 1px 3px 1px rgba(0, 0, 0, 0.15);\n",
              "      filter: drop-shadow(0px 1px 2px rgba(0, 0, 0, 0.3));\n",
              "      fill: #FFFFFF;\n",
              "    }\n",
              "  </style>\n",
              "\n",
              "      <script>\n",
              "        const buttonEl =\n",
              "          document.querySelector('#df-827a7e72-e94b-4cb0-9bd3-808000b95ad2 button.colab-df-convert');\n",
              "        buttonEl.style.display =\n",
              "          google.colab.kernel.accessAllowed ? 'block' : 'none';\n",
              "\n",
              "        async function convertToInteractive(key) {\n",
              "          const element = document.querySelector('#df-827a7e72-e94b-4cb0-9bd3-808000b95ad2');\n",
              "          const dataTable =\n",
              "            await google.colab.kernel.invokeFunction('convertToInteractive',\n",
              "                                                     [key], {});\n",
              "          if (!dataTable) return;\n",
              "\n",
              "          const docLinkHtml = 'Like what you see? Visit the ' +\n",
              "            '<a target=\"_blank\" href=https://colab.research.google.com/notebooks/data_table.ipynb>data table notebook</a>'\n",
              "            + ' to learn more about interactive tables.';\n",
              "          element.innerHTML = '';\n",
              "          dataTable['output_type'] = 'display_data';\n",
              "          await google.colab.output.renderOutput(dataTable, element);\n",
              "          const docLink = document.createElement('div');\n",
              "          docLink.innerHTML = docLinkHtml;\n",
              "          element.appendChild(docLink);\n",
              "        }\n",
              "      </script>\n",
              "    </div>\n",
              "  </div>\n",
              "  "
            ],
            "text/plain": [
              "        id  week  ...  homepage_featured  num_orders\n",
              "0  1379560     1  ...                  0         177\n",
              "1  1466964     1  ...                  0         270\n",
              "2  1346989     1  ...                  0         189\n",
              "3  1338232     1  ...                  0          54\n",
              "4  1448490     1  ...                  0          40\n",
              "\n",
              "[5 rows x 9 columns]"
            ]
          },
          "metadata": {},
          "execution_count": 277
        }
      ],
      "source": [
        "df.head(5)"
      ]
    },
    {
      "cell_type": "code",
      "execution_count": 278,
      "metadata": {
        "colab": {
          "base_uri": "https://localhost:8080/"
        },
        "id": "FxhNnWThWBvx",
        "outputId": "74f9833d-b483-4689-ba83-16031e1e3183"
      },
      "outputs": [
        {
          "output_type": "execute_result",
          "data": {
            "text/plain": [
              "id                       0\n",
              "week                     0\n",
              "center_id                0\n",
              "meal_id                  0\n",
              "checkout_price           0\n",
              "base_price               0\n",
              "emailer_for_promotion    0\n",
              "homepage_featured        0\n",
              "num_orders               0\n",
              "dtype: int64"
            ]
          },
          "metadata": {},
          "execution_count": 278
        }
      ],
      "source": [
        "df.isnull().sum()"
      ]
    },
    {
      "cell_type": "code",
      "execution_count": 279,
      "metadata": {
        "colab": {
          "base_uri": "https://localhost:8080/"
        },
        "id": "ShvBuzlVjbv_",
        "outputId": "757c4bfe-4c30-4fd2-b85a-f4357d32b447"
      },
      "outputs": [
        {
          "output_type": "execute_result",
          "data": {
            "text/plain": [
              "(456548, 9)"
            ]
          },
          "metadata": {},
          "execution_count": 279
        }
      ],
      "source": [
        "df.shape"
      ]
    },
    {
      "cell_type": "markdown",
      "metadata": {
        "id": "9uYvl1OBjYdw"
      },
      "source": [
        "IV. TEST DATA"
      ]
    },
    {
      "cell_type": "code",
      "execution_count": 280,
      "metadata": {
        "id": "iRzOArjxjZsA"
      },
      "outputs": [],
      "source": [
        "test = pd.read_csv('/content/drive/MyDrive/Food Demand/test_QoiMO9B.csv')"
      ]
    },
    {
      "cell_type": "code",
      "execution_count": 281,
      "metadata": {
        "colab": {
          "base_uri": "https://localhost:8080/",
          "height": 206
        },
        "id": "3Vjtiomljet9",
        "outputId": "b93bd157-6fb6-4c74-fe90-26a208666b5d"
      },
      "outputs": [
        {
          "output_type": "execute_result",
          "data": {
            "text/html": [
              "\n",
              "  <div id=\"df-05fbb936-dea2-43ee-95ab-50ec77971375\">\n",
              "    <div class=\"colab-df-container\">\n",
              "      <div>\n",
              "<style scoped>\n",
              "    .dataframe tbody tr th:only-of-type {\n",
              "        vertical-align: middle;\n",
              "    }\n",
              "\n",
              "    .dataframe tbody tr th {\n",
              "        vertical-align: top;\n",
              "    }\n",
              "\n",
              "    .dataframe thead th {\n",
              "        text-align: right;\n",
              "    }\n",
              "</style>\n",
              "<table border=\"1\" class=\"dataframe\">\n",
              "  <thead>\n",
              "    <tr style=\"text-align: right;\">\n",
              "      <th></th>\n",
              "      <th>id</th>\n",
              "      <th>week</th>\n",
              "      <th>center_id</th>\n",
              "      <th>meal_id</th>\n",
              "      <th>checkout_price</th>\n",
              "      <th>base_price</th>\n",
              "      <th>emailer_for_promotion</th>\n",
              "      <th>homepage_featured</th>\n",
              "    </tr>\n",
              "  </thead>\n",
              "  <tbody>\n",
              "    <tr>\n",
              "      <th>0</th>\n",
              "      <td>1028232</td>\n",
              "      <td>146</td>\n",
              "      <td>55</td>\n",
              "      <td>1885</td>\n",
              "      <td>158.11</td>\n",
              "      <td>159.11</td>\n",
              "      <td>0</td>\n",
              "      <td>0</td>\n",
              "    </tr>\n",
              "    <tr>\n",
              "      <th>1</th>\n",
              "      <td>1127204</td>\n",
              "      <td>146</td>\n",
              "      <td>55</td>\n",
              "      <td>1993</td>\n",
              "      <td>160.11</td>\n",
              "      <td>159.11</td>\n",
              "      <td>0</td>\n",
              "      <td>0</td>\n",
              "    </tr>\n",
              "    <tr>\n",
              "      <th>2</th>\n",
              "      <td>1212707</td>\n",
              "      <td>146</td>\n",
              "      <td>55</td>\n",
              "      <td>2539</td>\n",
              "      <td>157.14</td>\n",
              "      <td>159.14</td>\n",
              "      <td>0</td>\n",
              "      <td>0</td>\n",
              "    </tr>\n",
              "    <tr>\n",
              "      <th>3</th>\n",
              "      <td>1082698</td>\n",
              "      <td>146</td>\n",
              "      <td>55</td>\n",
              "      <td>2631</td>\n",
              "      <td>162.02</td>\n",
              "      <td>162.02</td>\n",
              "      <td>0</td>\n",
              "      <td>0</td>\n",
              "    </tr>\n",
              "    <tr>\n",
              "      <th>4</th>\n",
              "      <td>1400926</td>\n",
              "      <td>146</td>\n",
              "      <td>55</td>\n",
              "      <td>1248</td>\n",
              "      <td>163.93</td>\n",
              "      <td>163.93</td>\n",
              "      <td>0</td>\n",
              "      <td>0</td>\n",
              "    </tr>\n",
              "  </tbody>\n",
              "</table>\n",
              "</div>\n",
              "      <button class=\"colab-df-convert\" onclick=\"convertToInteractive('df-05fbb936-dea2-43ee-95ab-50ec77971375')\"\n",
              "              title=\"Convert this dataframe to an interactive table.\"\n",
              "              style=\"display:none;\">\n",
              "        \n",
              "  <svg xmlns=\"http://www.w3.org/2000/svg\" height=\"24px\"viewBox=\"0 0 24 24\"\n",
              "       width=\"24px\">\n",
              "    <path d=\"M0 0h24v24H0V0z\" fill=\"none\"/>\n",
              "    <path d=\"M18.56 5.44l.94 2.06.94-2.06 2.06-.94-2.06-.94-.94-2.06-.94 2.06-2.06.94zm-11 1L8.5 8.5l.94-2.06 2.06-.94-2.06-.94L8.5 2.5l-.94 2.06-2.06.94zm10 10l.94 2.06.94-2.06 2.06-.94-2.06-.94-.94-2.06-.94 2.06-2.06.94z\"/><path d=\"M17.41 7.96l-1.37-1.37c-.4-.4-.92-.59-1.43-.59-.52 0-1.04.2-1.43.59L10.3 9.45l-7.72 7.72c-.78.78-.78 2.05 0 2.83L4 21.41c.39.39.9.59 1.41.59.51 0 1.02-.2 1.41-.59l7.78-7.78 2.81-2.81c.8-.78.8-2.07 0-2.86zM5.41 20L4 18.59l7.72-7.72 1.47 1.35L5.41 20z\"/>\n",
              "  </svg>\n",
              "      </button>\n",
              "      \n",
              "  <style>\n",
              "    .colab-df-container {\n",
              "      display:flex;\n",
              "      flex-wrap:wrap;\n",
              "      gap: 12px;\n",
              "    }\n",
              "\n",
              "    .colab-df-convert {\n",
              "      background-color: #E8F0FE;\n",
              "      border: none;\n",
              "      border-radius: 50%;\n",
              "      cursor: pointer;\n",
              "      display: none;\n",
              "      fill: #1967D2;\n",
              "      height: 32px;\n",
              "      padding: 0 0 0 0;\n",
              "      width: 32px;\n",
              "    }\n",
              "\n",
              "    .colab-df-convert:hover {\n",
              "      background-color: #E2EBFA;\n",
              "      box-shadow: 0px 1px 2px rgba(60, 64, 67, 0.3), 0px 1px 3px 1px rgba(60, 64, 67, 0.15);\n",
              "      fill: #174EA6;\n",
              "    }\n",
              "\n",
              "    [theme=dark] .colab-df-convert {\n",
              "      background-color: #3B4455;\n",
              "      fill: #D2E3FC;\n",
              "    }\n",
              "\n",
              "    [theme=dark] .colab-df-convert:hover {\n",
              "      background-color: #434B5C;\n",
              "      box-shadow: 0px 1px 3px 1px rgba(0, 0, 0, 0.15);\n",
              "      filter: drop-shadow(0px 1px 2px rgba(0, 0, 0, 0.3));\n",
              "      fill: #FFFFFF;\n",
              "    }\n",
              "  </style>\n",
              "\n",
              "      <script>\n",
              "        const buttonEl =\n",
              "          document.querySelector('#df-05fbb936-dea2-43ee-95ab-50ec77971375 button.colab-df-convert');\n",
              "        buttonEl.style.display =\n",
              "          google.colab.kernel.accessAllowed ? 'block' : 'none';\n",
              "\n",
              "        async function convertToInteractive(key) {\n",
              "          const element = document.querySelector('#df-05fbb936-dea2-43ee-95ab-50ec77971375');\n",
              "          const dataTable =\n",
              "            await google.colab.kernel.invokeFunction('convertToInteractive',\n",
              "                                                     [key], {});\n",
              "          if (!dataTable) return;\n",
              "\n",
              "          const docLinkHtml = 'Like what you see? Visit the ' +\n",
              "            '<a target=\"_blank\" href=https://colab.research.google.com/notebooks/data_table.ipynb>data table notebook</a>'\n",
              "            + ' to learn more about interactive tables.';\n",
              "          element.innerHTML = '';\n",
              "          dataTable['output_type'] = 'display_data';\n",
              "          await google.colab.output.renderOutput(dataTable, element);\n",
              "          const docLink = document.createElement('div');\n",
              "          docLink.innerHTML = docLinkHtml;\n",
              "          element.appendChild(docLink);\n",
              "        }\n",
              "      </script>\n",
              "    </div>\n",
              "  </div>\n",
              "  "
            ],
            "text/plain": [
              "        id  week  ...  emailer_for_promotion  homepage_featured\n",
              "0  1028232   146  ...                      0                  0\n",
              "1  1127204   146  ...                      0                  0\n",
              "2  1212707   146  ...                      0                  0\n",
              "3  1082698   146  ...                      0                  0\n",
              "4  1400926   146  ...                      0                  0\n",
              "\n",
              "[5 rows x 8 columns]"
            ]
          },
          "metadata": {},
          "execution_count": 281
        }
      ],
      "source": [
        "test.head(5)"
      ]
    },
    {
      "cell_type": "markdown",
      "source": [
        "## B. DERIVING NEW FEATURES"
      ],
      "metadata": {
        "id": "-zx9CEzw7WjM"
      }
    },
    {
      "cell_type": "code",
      "source": [
        "df['discount_percent'] = (df['base_price'] - df['checkout_price'])/df['base_price']*100\n",
        "df['discount y/n'] = [1 if x>0 else 0 for x in (df['base_price']-df['checkout_price'])]\n",
        "\n",
        "test['discount_percent'] = (test['base_price'] - test['checkout_price'])/test['base_price']*100\n",
        "test['discount y/n'] = [1 if x>0 else 0 for x in (test['base_price']-test['checkout_price'])]"
      ],
      "metadata": {
        "id": "3GYrIAdx7ZZn"
      },
      "execution_count": 282,
      "outputs": []
    },
    {
      "cell_type": "markdown",
      "metadata": {
        "id": "bnvt0oyKB36P"
      },
      "source": [
        "## B. DATA PREPROCESSING"
      ]
    },
    {
      "cell_type": "code",
      "execution_count": 283,
      "metadata": {
        "id": "7PPmXSQRB-ZA"
      },
      "outputs": [],
      "source": [
        "df_merge = df.merge(meal_info, how='left', left_on='meal_id', right_on='meal_id')"
      ]
    },
    {
      "cell_type": "code",
      "execution_count": 284,
      "metadata": {
        "id": "m3CM8OxRMMfD"
      },
      "outputs": [],
      "source": [
        "df_merge_center = df_merge.merge(fulfillment_center, how='left', left_on='center_id', right_on='center_id')"
      ]
    },
    {
      "cell_type": "code",
      "execution_count": 285,
      "metadata": {
        "colab": {
          "base_uri": "https://localhost:8080/",
          "height": 225
        },
        "id": "TaZkXfs6MnJT",
        "outputId": "d6f34762-a557-416e-e6f9-3ef103725c22"
      },
      "outputs": [
        {
          "output_type": "execute_result",
          "data": {
            "text/html": [
              "\n",
              "  <div id=\"df-807c2bb8-82e6-409a-b995-27a24500e85b\">\n",
              "    <div class=\"colab-df-container\">\n",
              "      <div>\n",
              "<style scoped>\n",
              "    .dataframe tbody tr th:only-of-type {\n",
              "        vertical-align: middle;\n",
              "    }\n",
              "\n",
              "    .dataframe tbody tr th {\n",
              "        vertical-align: top;\n",
              "    }\n",
              "\n",
              "    .dataframe thead th {\n",
              "        text-align: right;\n",
              "    }\n",
              "</style>\n",
              "<table border=\"1\" class=\"dataframe\">\n",
              "  <thead>\n",
              "    <tr style=\"text-align: right;\">\n",
              "      <th></th>\n",
              "      <th>id</th>\n",
              "      <th>week</th>\n",
              "      <th>center_id</th>\n",
              "      <th>meal_id</th>\n",
              "      <th>checkout_price</th>\n",
              "      <th>base_price</th>\n",
              "      <th>emailer_for_promotion</th>\n",
              "      <th>homepage_featured</th>\n",
              "      <th>num_orders</th>\n",
              "      <th>discount_percent</th>\n",
              "      <th>discount y/n</th>\n",
              "      <th>category</th>\n",
              "      <th>cuisine</th>\n",
              "      <th>city_code</th>\n",
              "      <th>region_code</th>\n",
              "      <th>center_type</th>\n",
              "      <th>op_area</th>\n",
              "    </tr>\n",
              "  </thead>\n",
              "  <tbody>\n",
              "    <tr>\n",
              "      <th>0</th>\n",
              "      <td>1379560</td>\n",
              "      <td>1</td>\n",
              "      <td>55</td>\n",
              "      <td>1885</td>\n",
              "      <td>136.83</td>\n",
              "      <td>152.29</td>\n",
              "      <td>0</td>\n",
              "      <td>0</td>\n",
              "      <td>177</td>\n",
              "      <td>10.151684</td>\n",
              "      <td>1</td>\n",
              "      <td>Beverages</td>\n",
              "      <td>Thai</td>\n",
              "      <td>647</td>\n",
              "      <td>56</td>\n",
              "      <td>TYPE_C</td>\n",
              "      <td>2.0</td>\n",
              "    </tr>\n",
              "    <tr>\n",
              "      <th>1</th>\n",
              "      <td>1466964</td>\n",
              "      <td>1</td>\n",
              "      <td>55</td>\n",
              "      <td>1993</td>\n",
              "      <td>136.83</td>\n",
              "      <td>135.83</td>\n",
              "      <td>0</td>\n",
              "      <td>0</td>\n",
              "      <td>270</td>\n",
              "      <td>-0.736214</td>\n",
              "      <td>0</td>\n",
              "      <td>Beverages</td>\n",
              "      <td>Thai</td>\n",
              "      <td>647</td>\n",
              "      <td>56</td>\n",
              "      <td>TYPE_C</td>\n",
              "      <td>2.0</td>\n",
              "    </tr>\n",
              "    <tr>\n",
              "      <th>2</th>\n",
              "      <td>1346989</td>\n",
              "      <td>1</td>\n",
              "      <td>55</td>\n",
              "      <td>2539</td>\n",
              "      <td>134.86</td>\n",
              "      <td>135.86</td>\n",
              "      <td>0</td>\n",
              "      <td>0</td>\n",
              "      <td>189</td>\n",
              "      <td>0.736052</td>\n",
              "      <td>1</td>\n",
              "      <td>Beverages</td>\n",
              "      <td>Thai</td>\n",
              "      <td>647</td>\n",
              "      <td>56</td>\n",
              "      <td>TYPE_C</td>\n",
              "      <td>2.0</td>\n",
              "    </tr>\n",
              "  </tbody>\n",
              "</table>\n",
              "</div>\n",
              "      <button class=\"colab-df-convert\" onclick=\"convertToInteractive('df-807c2bb8-82e6-409a-b995-27a24500e85b')\"\n",
              "              title=\"Convert this dataframe to an interactive table.\"\n",
              "              style=\"display:none;\">\n",
              "        \n",
              "  <svg xmlns=\"http://www.w3.org/2000/svg\" height=\"24px\"viewBox=\"0 0 24 24\"\n",
              "       width=\"24px\">\n",
              "    <path d=\"M0 0h24v24H0V0z\" fill=\"none\"/>\n",
              "    <path d=\"M18.56 5.44l.94 2.06.94-2.06 2.06-.94-2.06-.94-.94-2.06-.94 2.06-2.06.94zm-11 1L8.5 8.5l.94-2.06 2.06-.94-2.06-.94L8.5 2.5l-.94 2.06-2.06.94zm10 10l.94 2.06.94-2.06 2.06-.94-2.06-.94-.94-2.06-.94 2.06-2.06.94z\"/><path d=\"M17.41 7.96l-1.37-1.37c-.4-.4-.92-.59-1.43-.59-.52 0-1.04.2-1.43.59L10.3 9.45l-7.72 7.72c-.78.78-.78 2.05 0 2.83L4 21.41c.39.39.9.59 1.41.59.51 0 1.02-.2 1.41-.59l7.78-7.78 2.81-2.81c.8-.78.8-2.07 0-2.86zM5.41 20L4 18.59l7.72-7.72 1.47 1.35L5.41 20z\"/>\n",
              "  </svg>\n",
              "      </button>\n",
              "      \n",
              "  <style>\n",
              "    .colab-df-container {\n",
              "      display:flex;\n",
              "      flex-wrap:wrap;\n",
              "      gap: 12px;\n",
              "    }\n",
              "\n",
              "    .colab-df-convert {\n",
              "      background-color: #E8F0FE;\n",
              "      border: none;\n",
              "      border-radius: 50%;\n",
              "      cursor: pointer;\n",
              "      display: none;\n",
              "      fill: #1967D2;\n",
              "      height: 32px;\n",
              "      padding: 0 0 0 0;\n",
              "      width: 32px;\n",
              "    }\n",
              "\n",
              "    .colab-df-convert:hover {\n",
              "      background-color: #E2EBFA;\n",
              "      box-shadow: 0px 1px 2px rgba(60, 64, 67, 0.3), 0px 1px 3px 1px rgba(60, 64, 67, 0.15);\n",
              "      fill: #174EA6;\n",
              "    }\n",
              "\n",
              "    [theme=dark] .colab-df-convert {\n",
              "      background-color: #3B4455;\n",
              "      fill: #D2E3FC;\n",
              "    }\n",
              "\n",
              "    [theme=dark] .colab-df-convert:hover {\n",
              "      background-color: #434B5C;\n",
              "      box-shadow: 0px 1px 3px 1px rgba(0, 0, 0, 0.15);\n",
              "      filter: drop-shadow(0px 1px 2px rgba(0, 0, 0, 0.3));\n",
              "      fill: #FFFFFF;\n",
              "    }\n",
              "  </style>\n",
              "\n",
              "      <script>\n",
              "        const buttonEl =\n",
              "          document.querySelector('#df-807c2bb8-82e6-409a-b995-27a24500e85b button.colab-df-convert');\n",
              "        buttonEl.style.display =\n",
              "          google.colab.kernel.accessAllowed ? 'block' : 'none';\n",
              "\n",
              "        async function convertToInteractive(key) {\n",
              "          const element = document.querySelector('#df-807c2bb8-82e6-409a-b995-27a24500e85b');\n",
              "          const dataTable =\n",
              "            await google.colab.kernel.invokeFunction('convertToInteractive',\n",
              "                                                     [key], {});\n",
              "          if (!dataTable) return;\n",
              "\n",
              "          const docLinkHtml = 'Like what you see? Visit the ' +\n",
              "            '<a target=\"_blank\" href=https://colab.research.google.com/notebooks/data_table.ipynb>data table notebook</a>'\n",
              "            + ' to learn more about interactive tables.';\n",
              "          element.innerHTML = '';\n",
              "          dataTable['output_type'] = 'display_data';\n",
              "          await google.colab.output.renderOutput(dataTable, element);\n",
              "          const docLink = document.createElement('div');\n",
              "          docLink.innerHTML = docLinkHtml;\n",
              "          element.appendChild(docLink);\n",
              "        }\n",
              "      </script>\n",
              "    </div>\n",
              "  </div>\n",
              "  "
            ],
            "text/plain": [
              "        id  week  center_id  ...  region_code  center_type  op_area\n",
              "0  1379560     1         55  ...           56       TYPE_C      2.0\n",
              "1  1466964     1         55  ...           56       TYPE_C      2.0\n",
              "2  1346989     1         55  ...           56       TYPE_C      2.0\n",
              "\n",
              "[3 rows x 17 columns]"
            ]
          },
          "metadata": {},
          "execution_count": 285
        }
      ],
      "source": [
        "df_merge_center.head(3)"
      ]
    },
    {
      "cell_type": "code",
      "source": [
        "# city_encode = {590:4, 526:3, 638:2}\n",
        "# df_merge_center['city_code'] = df_merge_center['city_code'].map(city_encode)\n",
        "# df_merge_center['city_code'] = df_merge_center['city_code'].fillna(1)"
      ],
      "metadata": {
        "id": "9CxQYf-3Wx2b"
      },
      "execution_count": 241,
      "outputs": []
    },
    {
      "cell_type": "code",
      "source": [
        "columns_encoder = ['center_id', 'meal_id', 'city_code', 'region_code', 'center_type', 'op_area', 'category', 'cuisine']\n",
        "transform_list = []\n",
        "for col in columns_encoder:\n",
        "  result = df_merge_center.groupby(col)['num_orders'].sum().sort_values().rank()\n",
        "  transform_list.append(result)\n",
        "  df_merge_center[col] = df_merge_center[col].map(result)"
      ],
      "metadata": {
        "id": "laYsMjvqMN1M"
      },
      "execution_count": 286,
      "outputs": []
    },
    {
      "cell_type": "code",
      "source": [
        "df_final = df_merge_center.copy(deep=True)"
      ],
      "metadata": {
        "id": "G4W6l4k8Ee-Q"
      },
      "execution_count": 287,
      "outputs": []
    },
    {
      "cell_type": "code",
      "source": [
        "df_final.head(3)"
      ],
      "metadata": {
        "colab": {
          "base_uri": "https://localhost:8080/",
          "height": 225
        },
        "id": "tWemY3EmE6xK",
        "outputId": "337209e7-ee76-4e94-b7bc-02f40d4192fd"
      },
      "execution_count": 288,
      "outputs": [
        {
          "output_type": "execute_result",
          "data": {
            "text/html": [
              "\n",
              "  <div id=\"df-7f43a210-3786-4c9a-8504-029e7def1ffd\">\n",
              "    <div class=\"colab-df-container\">\n",
              "      <div>\n",
              "<style scoped>\n",
              "    .dataframe tbody tr th:only-of-type {\n",
              "        vertical-align: middle;\n",
              "    }\n",
              "\n",
              "    .dataframe tbody tr th {\n",
              "        vertical-align: top;\n",
              "    }\n",
              "\n",
              "    .dataframe thead th {\n",
              "        text-align: right;\n",
              "    }\n",
              "</style>\n",
              "<table border=\"1\" class=\"dataframe\">\n",
              "  <thead>\n",
              "    <tr style=\"text-align: right;\">\n",
              "      <th></th>\n",
              "      <th>id</th>\n",
              "      <th>week</th>\n",
              "      <th>center_id</th>\n",
              "      <th>meal_id</th>\n",
              "      <th>checkout_price</th>\n",
              "      <th>base_price</th>\n",
              "      <th>emailer_for_promotion</th>\n",
              "      <th>homepage_featured</th>\n",
              "      <th>num_orders</th>\n",
              "      <th>discount_percent</th>\n",
              "      <th>discount y/n</th>\n",
              "      <th>category</th>\n",
              "      <th>cuisine</th>\n",
              "      <th>city_code</th>\n",
              "      <th>region_code</th>\n",
              "      <th>center_type</th>\n",
              "      <th>op_area</th>\n",
              "    </tr>\n",
              "  </thead>\n",
              "  <tbody>\n",
              "    <tr>\n",
              "      <th>0</th>\n",
              "      <td>1379560</td>\n",
              "      <td>1</td>\n",
              "      <td>9.0</td>\n",
              "      <td>50.0</td>\n",
              "      <td>136.83</td>\n",
              "      <td>152.29</td>\n",
              "      <td>0</td>\n",
              "      <td>0</td>\n",
              "      <td>177</td>\n",
              "      <td>10.151684</td>\n",
              "      <td>1</td>\n",
              "      <td>14.0</td>\n",
              "      <td>3.0</td>\n",
              "      <td>46.0</td>\n",
              "      <td>8.0</td>\n",
              "      <td>1.0</td>\n",
              "      <td>6.0</td>\n",
              "    </tr>\n",
              "    <tr>\n",
              "      <th>1</th>\n",
              "      <td>1466964</td>\n",
              "      <td>1</td>\n",
              "      <td>9.0</td>\n",
              "      <td>48.0</td>\n",
              "      <td>136.83</td>\n",
              "      <td>135.83</td>\n",
              "      <td>0</td>\n",
              "      <td>0</td>\n",
              "      <td>270</td>\n",
              "      <td>-0.736214</td>\n",
              "      <td>0</td>\n",
              "      <td>14.0</td>\n",
              "      <td>3.0</td>\n",
              "      <td>46.0</td>\n",
              "      <td>8.0</td>\n",
              "      <td>1.0</td>\n",
              "      <td>6.0</td>\n",
              "    </tr>\n",
              "    <tr>\n",
              "      <th>2</th>\n",
              "      <td>1346989</td>\n",
              "      <td>1</td>\n",
              "      <td>9.0</td>\n",
              "      <td>36.0</td>\n",
              "      <td>134.86</td>\n",
              "      <td>135.86</td>\n",
              "      <td>0</td>\n",
              "      <td>0</td>\n",
              "      <td>189</td>\n",
              "      <td>0.736052</td>\n",
              "      <td>1</td>\n",
              "      <td>14.0</td>\n",
              "      <td>3.0</td>\n",
              "      <td>46.0</td>\n",
              "      <td>8.0</td>\n",
              "      <td>1.0</td>\n",
              "      <td>6.0</td>\n",
              "    </tr>\n",
              "  </tbody>\n",
              "</table>\n",
              "</div>\n",
              "      <button class=\"colab-df-convert\" onclick=\"convertToInteractive('df-7f43a210-3786-4c9a-8504-029e7def1ffd')\"\n",
              "              title=\"Convert this dataframe to an interactive table.\"\n",
              "              style=\"display:none;\">\n",
              "        \n",
              "  <svg xmlns=\"http://www.w3.org/2000/svg\" height=\"24px\"viewBox=\"0 0 24 24\"\n",
              "       width=\"24px\">\n",
              "    <path d=\"M0 0h24v24H0V0z\" fill=\"none\"/>\n",
              "    <path d=\"M18.56 5.44l.94 2.06.94-2.06 2.06-.94-2.06-.94-.94-2.06-.94 2.06-2.06.94zm-11 1L8.5 8.5l.94-2.06 2.06-.94-2.06-.94L8.5 2.5l-.94 2.06-2.06.94zm10 10l.94 2.06.94-2.06 2.06-.94-2.06-.94-.94-2.06-.94 2.06-2.06.94z\"/><path d=\"M17.41 7.96l-1.37-1.37c-.4-.4-.92-.59-1.43-.59-.52 0-1.04.2-1.43.59L10.3 9.45l-7.72 7.72c-.78.78-.78 2.05 0 2.83L4 21.41c.39.39.9.59 1.41.59.51 0 1.02-.2 1.41-.59l7.78-7.78 2.81-2.81c.8-.78.8-2.07 0-2.86zM5.41 20L4 18.59l7.72-7.72 1.47 1.35L5.41 20z\"/>\n",
              "  </svg>\n",
              "      </button>\n",
              "      \n",
              "  <style>\n",
              "    .colab-df-container {\n",
              "      display:flex;\n",
              "      flex-wrap:wrap;\n",
              "      gap: 12px;\n",
              "    }\n",
              "\n",
              "    .colab-df-convert {\n",
              "      background-color: #E8F0FE;\n",
              "      border: none;\n",
              "      border-radius: 50%;\n",
              "      cursor: pointer;\n",
              "      display: none;\n",
              "      fill: #1967D2;\n",
              "      height: 32px;\n",
              "      padding: 0 0 0 0;\n",
              "      width: 32px;\n",
              "    }\n",
              "\n",
              "    .colab-df-convert:hover {\n",
              "      background-color: #E2EBFA;\n",
              "      box-shadow: 0px 1px 2px rgba(60, 64, 67, 0.3), 0px 1px 3px 1px rgba(60, 64, 67, 0.15);\n",
              "      fill: #174EA6;\n",
              "    }\n",
              "\n",
              "    [theme=dark] .colab-df-convert {\n",
              "      background-color: #3B4455;\n",
              "      fill: #D2E3FC;\n",
              "    }\n",
              "\n",
              "    [theme=dark] .colab-df-convert:hover {\n",
              "      background-color: #434B5C;\n",
              "      box-shadow: 0px 1px 3px 1px rgba(0, 0, 0, 0.15);\n",
              "      filter: drop-shadow(0px 1px 2px rgba(0, 0, 0, 0.3));\n",
              "      fill: #FFFFFF;\n",
              "    }\n",
              "  </style>\n",
              "\n",
              "      <script>\n",
              "        const buttonEl =\n",
              "          document.querySelector('#df-7f43a210-3786-4c9a-8504-029e7def1ffd button.colab-df-convert');\n",
              "        buttonEl.style.display =\n",
              "          google.colab.kernel.accessAllowed ? 'block' : 'none';\n",
              "\n",
              "        async function convertToInteractive(key) {\n",
              "          const element = document.querySelector('#df-7f43a210-3786-4c9a-8504-029e7def1ffd');\n",
              "          const dataTable =\n",
              "            await google.colab.kernel.invokeFunction('convertToInteractive',\n",
              "                                                     [key], {});\n",
              "          if (!dataTable) return;\n",
              "\n",
              "          const docLinkHtml = 'Like what you see? Visit the ' +\n",
              "            '<a target=\"_blank\" href=https://colab.research.google.com/notebooks/data_table.ipynb>data table notebook</a>'\n",
              "            + ' to learn more about interactive tables.';\n",
              "          element.innerHTML = '';\n",
              "          dataTable['output_type'] = 'display_data';\n",
              "          await google.colab.output.renderOutput(dataTable, element);\n",
              "          const docLink = document.createElement('div');\n",
              "          docLink.innerHTML = docLinkHtml;\n",
              "          element.appendChild(docLink);\n",
              "        }\n",
              "      </script>\n",
              "    </div>\n",
              "  </div>\n",
              "  "
            ],
            "text/plain": [
              "        id  week  center_id  ...  region_code  center_type  op_area\n",
              "0  1379560     1        9.0  ...          8.0          1.0      6.0\n",
              "1  1466964     1        9.0  ...          8.0          1.0      6.0\n",
              "2  1346989     1        9.0  ...          8.0          1.0      6.0\n",
              "\n",
              "[3 rows x 17 columns]"
            ]
          },
          "metadata": {},
          "execution_count": 288
        }
      ]
    },
    {
      "cell_type": "code",
      "source": [
        "df_final['Month'] = df_final['week'].apply(lambda x: int(x / 4)+1)\n",
        "df_final['Year'] = df_final['week'].apply(lambda x: int(x / 52)+1)\n",
        "df_final['Quarter'] = df_final['week'].apply(lambda x: int(x / 13)+1)"
      ],
      "metadata": {
        "id": "Rc-ALTeqckUU"
      },
      "execution_count": 289,
      "outputs": []
    },
    {
      "cell_type": "code",
      "source": [
        "# def convert_month(input_month):\n",
        "#   if (input_month>=1 and input_month<=12):\n",
        "#     return input_month\n",
        "#   elif (input_month%12==0):\n",
        "#     return 12\n",
        "#   else:\n",
        "#     return input_month%12\n",
        "\n",
        "# def convert_quarter(input_quarter):\n",
        "#   if (input_quarter>=1 and input_quarter<=4):\n",
        "#     return input_quarter\n",
        "#   elif (input_quarter%4==0):\n",
        "#     return 4\n",
        "#   else:\n",
        "#     return input_quarter%4"
      ],
      "metadata": {
        "id": "Wu2eBfxtMIbp"
      },
      "execution_count": 190,
      "outputs": []
    },
    {
      "cell_type": "code",
      "source": [
        "# df_final['Month'] = df_final['Month'].apply(lambda x: convert_month(x))\n",
        "# df_final['Quarter'] = df_final['Quarter'].apply(lambda x: convert_quarter(x))"
      ],
      "metadata": {
        "id": "HpNnzMUDL0D9"
      },
      "execution_count": 191,
      "outputs": []
    },
    {
      "cell_type": "code",
      "source": [
        "df_final.head(1)"
      ],
      "metadata": {
        "colab": {
          "base_uri": "https://localhost:8080/",
          "height": 162
        },
        "id": "s8fnmuYkp52e",
        "outputId": "56993b36-90db-4939-89b1-aa65aae40396"
      },
      "execution_count": 290,
      "outputs": [
        {
          "output_type": "execute_result",
          "data": {
            "text/html": [
              "\n",
              "  <div id=\"df-4907e523-bb24-42c2-98b9-1515afc637ef\">\n",
              "    <div class=\"colab-df-container\">\n",
              "      <div>\n",
              "<style scoped>\n",
              "    .dataframe tbody tr th:only-of-type {\n",
              "        vertical-align: middle;\n",
              "    }\n",
              "\n",
              "    .dataframe tbody tr th {\n",
              "        vertical-align: top;\n",
              "    }\n",
              "\n",
              "    .dataframe thead th {\n",
              "        text-align: right;\n",
              "    }\n",
              "</style>\n",
              "<table border=\"1\" class=\"dataframe\">\n",
              "  <thead>\n",
              "    <tr style=\"text-align: right;\">\n",
              "      <th></th>\n",
              "      <th>id</th>\n",
              "      <th>week</th>\n",
              "      <th>center_id</th>\n",
              "      <th>meal_id</th>\n",
              "      <th>checkout_price</th>\n",
              "      <th>base_price</th>\n",
              "      <th>emailer_for_promotion</th>\n",
              "      <th>homepage_featured</th>\n",
              "      <th>num_orders</th>\n",
              "      <th>discount_percent</th>\n",
              "      <th>discount y/n</th>\n",
              "      <th>category</th>\n",
              "      <th>cuisine</th>\n",
              "      <th>city_code</th>\n",
              "      <th>region_code</th>\n",
              "      <th>center_type</th>\n",
              "      <th>op_area</th>\n",
              "      <th>Month</th>\n",
              "      <th>Year</th>\n",
              "      <th>Quarter</th>\n",
              "    </tr>\n",
              "  </thead>\n",
              "  <tbody>\n",
              "    <tr>\n",
              "      <th>0</th>\n",
              "      <td>1379560</td>\n",
              "      <td>1</td>\n",
              "      <td>9.0</td>\n",
              "      <td>50.0</td>\n",
              "      <td>136.83</td>\n",
              "      <td>152.29</td>\n",
              "      <td>0</td>\n",
              "      <td>0</td>\n",
              "      <td>177</td>\n",
              "      <td>10.151684</td>\n",
              "      <td>1</td>\n",
              "      <td>14.0</td>\n",
              "      <td>3.0</td>\n",
              "      <td>46.0</td>\n",
              "      <td>8.0</td>\n",
              "      <td>1.0</td>\n",
              "      <td>6.0</td>\n",
              "      <td>1</td>\n",
              "      <td>1</td>\n",
              "      <td>1</td>\n",
              "    </tr>\n",
              "  </tbody>\n",
              "</table>\n",
              "</div>\n",
              "      <button class=\"colab-df-convert\" onclick=\"convertToInteractive('df-4907e523-bb24-42c2-98b9-1515afc637ef')\"\n",
              "              title=\"Convert this dataframe to an interactive table.\"\n",
              "              style=\"display:none;\">\n",
              "        \n",
              "  <svg xmlns=\"http://www.w3.org/2000/svg\" height=\"24px\"viewBox=\"0 0 24 24\"\n",
              "       width=\"24px\">\n",
              "    <path d=\"M0 0h24v24H0V0z\" fill=\"none\"/>\n",
              "    <path d=\"M18.56 5.44l.94 2.06.94-2.06 2.06-.94-2.06-.94-.94-2.06-.94 2.06-2.06.94zm-11 1L8.5 8.5l.94-2.06 2.06-.94-2.06-.94L8.5 2.5l-.94 2.06-2.06.94zm10 10l.94 2.06.94-2.06 2.06-.94-2.06-.94-.94-2.06-.94 2.06-2.06.94z\"/><path d=\"M17.41 7.96l-1.37-1.37c-.4-.4-.92-.59-1.43-.59-.52 0-1.04.2-1.43.59L10.3 9.45l-7.72 7.72c-.78.78-.78 2.05 0 2.83L4 21.41c.39.39.9.59 1.41.59.51 0 1.02-.2 1.41-.59l7.78-7.78 2.81-2.81c.8-.78.8-2.07 0-2.86zM5.41 20L4 18.59l7.72-7.72 1.47 1.35L5.41 20z\"/>\n",
              "  </svg>\n",
              "      </button>\n",
              "      \n",
              "  <style>\n",
              "    .colab-df-container {\n",
              "      display:flex;\n",
              "      flex-wrap:wrap;\n",
              "      gap: 12px;\n",
              "    }\n",
              "\n",
              "    .colab-df-convert {\n",
              "      background-color: #E8F0FE;\n",
              "      border: none;\n",
              "      border-radius: 50%;\n",
              "      cursor: pointer;\n",
              "      display: none;\n",
              "      fill: #1967D2;\n",
              "      height: 32px;\n",
              "      padding: 0 0 0 0;\n",
              "      width: 32px;\n",
              "    }\n",
              "\n",
              "    .colab-df-convert:hover {\n",
              "      background-color: #E2EBFA;\n",
              "      box-shadow: 0px 1px 2px rgba(60, 64, 67, 0.3), 0px 1px 3px 1px rgba(60, 64, 67, 0.15);\n",
              "      fill: #174EA6;\n",
              "    }\n",
              "\n",
              "    [theme=dark] .colab-df-convert {\n",
              "      background-color: #3B4455;\n",
              "      fill: #D2E3FC;\n",
              "    }\n",
              "\n",
              "    [theme=dark] .colab-df-convert:hover {\n",
              "      background-color: #434B5C;\n",
              "      box-shadow: 0px 1px 3px 1px rgba(0, 0, 0, 0.15);\n",
              "      filter: drop-shadow(0px 1px 2px rgba(0, 0, 0, 0.3));\n",
              "      fill: #FFFFFF;\n",
              "    }\n",
              "  </style>\n",
              "\n",
              "      <script>\n",
              "        const buttonEl =\n",
              "          document.querySelector('#df-4907e523-bb24-42c2-98b9-1515afc637ef button.colab-df-convert');\n",
              "        buttonEl.style.display =\n",
              "          google.colab.kernel.accessAllowed ? 'block' : 'none';\n",
              "\n",
              "        async function convertToInteractive(key) {\n",
              "          const element = document.querySelector('#df-4907e523-bb24-42c2-98b9-1515afc637ef');\n",
              "          const dataTable =\n",
              "            await google.colab.kernel.invokeFunction('convertToInteractive',\n",
              "                                                     [key], {});\n",
              "          if (!dataTable) return;\n",
              "\n",
              "          const docLinkHtml = 'Like what you see? Visit the ' +\n",
              "            '<a target=\"_blank\" href=https://colab.research.google.com/notebooks/data_table.ipynb>data table notebook</a>'\n",
              "            + ' to learn more about interactive tables.';\n",
              "          element.innerHTML = '';\n",
              "          dataTable['output_type'] = 'display_data';\n",
              "          await google.colab.output.renderOutput(dataTable, element);\n",
              "          const docLink = document.createElement('div');\n",
              "          docLink.innerHTML = docLinkHtml;\n",
              "          element.appendChild(docLink);\n",
              "        }\n",
              "      </script>\n",
              "    </div>\n",
              "  </div>\n",
              "  "
            ],
            "text/plain": [
              "        id  week  center_id  meal_id  ...  op_area  Month  Year  Quarter\n",
              "0  1379560     1        9.0     50.0  ...      6.0      1     1        1\n",
              "\n",
              "[1 rows x 20 columns]"
            ]
          },
          "metadata": {},
          "execution_count": 290
        }
      ]
    },
    {
      "cell_type": "code",
      "execution_count": 291,
      "metadata": {
        "colab": {
          "base_uri": "https://localhost:8080/",
          "height": 606
        },
        "id": "PreYXdQEhL3I",
        "outputId": "e8a0ddfd-26a1-4a65-d38c-c110fc340749"
      },
      "outputs": [
        {
          "output_type": "execute_result",
          "data": {
            "text/plain": [
              "<matplotlib.axes._subplots.AxesSubplot at 0x7f8435d52610>"
            ]
          },
          "metadata": {},
          "execution_count": 291
        },
        {
          "output_type": "display_data",
          "data": {
            "image/png": "[encoded data removed]",
            "text/plain": [
              "<Figure size 720x576 with 2 Axes>"
            ]
          },
          "metadata": {
            "needs_background": "light"
          }
        }
      ],
      "source": [
        "plt.figure(figsize=(10,8))\n",
        "sns.heatmap(df_final.corr())"
      ]
    },
    {
      "cell_type": "markdown",
      "metadata": {
        "id": "ZlWEadE1iJDV"
      },
      "source": [
        "## C. BUILD MODEL"
      ]
    },
    {
      "cell_type": "code",
      "execution_count": 292,
      "metadata": {
        "id": "Lm9fhkjmii7M"
      },
      "outputs": [],
      "source": [
        "def root_mean_squared_log_error(y_true, y_pred):\n",
        "  min_pred = min(y_pred[y_pred>0])\n",
        "  y_pred[y_pred<0] = min_pred\n",
        "  return np.sqrt(mean_squared_log_error(y_true, y_pred))"
      ]
    },
    {
      "cell_type": "code",
      "source": [
        "train = df_final[df_final['week'].isin(range(1,130))]\n",
        "test_set = df_final[df_final['week'].isin(range(130,146))]\n",
        "X_train = train.drop('num_orders', axis=1)\n",
        "X_test = test_set.drop('num_orders', axis=1)\n",
        "y_train = train['num_orders']\n",
        "y_test = test_set['num_orders']"
      ],
      "metadata": {
        "id": "IATBdhsMAMHf"
      },
      "execution_count": 293,
      "outputs": []
    },
    {
      "cell_type": "code",
      "source": [
        "X_total = df_final.drop('num_orders', axis=1)\n",
        "y_total = df_final['num_orders']"
      ],
      "metadata": {
        "id": "EjoWif3grMXl"
      },
      "execution_count": 294,
      "outputs": []
    },
    {
      "cell_type": "code",
      "source": [
        "X_train_drop = X_train.drop(['week','id'], axis=1)\n",
        "X_test_drop = X_test.drop(['week','id'], axis=1)\n",
        "X_total_drop = X_total.drop(['week','id'], axis=1)"
      ],
      "metadata": {
        "id": "RUYzEoQBSdA1"
      },
      "execution_count": 295,
      "outputs": []
    },
    {
      "cell_type": "code",
      "source": [
        "y_train_log_transform = np.log1p(y_train)\n",
        "y_test_log_transform = np.log1p(y_test)\n",
        "y_total_log_transform = np.log1p(y_total)"
      ],
      "metadata": {
        "id": "J5UyPQijDjpj"
      },
      "execution_count": 296,
      "outputs": []
    },
    {
      "cell_type": "code",
      "source": [
        "df_final.corr()"
      ],
      "metadata": {
        "id": "q96bbTmaTmFK",
        "outputId": "11f90b88-0110-409d-990d-6f61e7bd1d13",
        "colab": {
          "base_uri": "https://localhost:8080/",
          "height": 758
        }
      },
      "execution_count": 297,
      "outputs": [
        {
          "output_type": "execute_result",
          "data": {
            "text/html": [
              "\n",
              "  <div id=\"df-5ba27c5b-2076-4fb7-8082-9b9ab21cfbb7\">\n",
              "    <div class=\"colab-df-container\">\n",
              "      <div>\n",
              "<style scoped>\n",
              "    .dataframe tbody tr th:only-of-type {\n",
              "        vertical-align: middle;\n",
              "    }\n",
              "\n",
              "    .dataframe tbody tr th {\n",
              "        vertical-align: top;\n",
              "    }\n",
              "\n",
              "    .dataframe thead th {\n",
              "        text-align: right;\n",
              "    }\n",
              "</style>\n",
              "<table border=\"1\" class=\"dataframe\">\n",
              "  <thead>\n",
              "    <tr style=\"text-align: right;\">\n",
              "      <th></th>\n",
              "      <th>id</th>\n",
              "      <th>week</th>\n",
              "      <th>center_id</th>\n",
              "      <th>meal_id</th>\n",
              "      <th>checkout_price</th>\n",
              "      <th>base_price</th>\n",
              "      <th>emailer_for_promotion</th>\n",
              "      <th>homepage_featured</th>\n",
              "      <th>num_orders</th>\n",
              "      <th>discount_percent</th>\n",
              "      <th>discount y/n</th>\n",
              "      <th>category</th>\n",
              "      <th>cuisine</th>\n",
              "      <th>city_code</th>\n",
              "      <th>region_code</th>\n",
              "      <th>center_type</th>\n",
              "      <th>op_area</th>\n",
              "      <th>Month</th>\n",
              "      <th>Year</th>\n",
              "      <th>Quarter</th>\n",
              "    </tr>\n",
              "  </thead>\n",
              "  <tbody>\n",
              "    <tr>\n",
              "      <th>id</th>\n",
              "      <td>1.000000</td>\n",
              "      <td>0.002225</td>\n",
              "      <td>-0.000403</td>\n",
              "      <td>-0.001303</td>\n",
              "      <td>0.001941</td>\n",
              "      <td>0.002909</td>\n",
              "      <td>0.002001</td>\n",
              "      <td>0.003111</td>\n",
              "      <td>0.000702</td>\n",
              "      <td>0.002910</td>\n",
              "      <td>0.001773</td>\n",
              "      <td>-0.000827</td>\n",
              "      <td>-0.001250</td>\n",
              "      <td>0.002737</td>\n",
              "      <td>0.000232</td>\n",
              "      <td>-0.000473</td>\n",
              "      <td>-0.000195</td>\n",
              "      <td>0.002220</td>\n",
              "      <td>0.001454</td>\n",
              "      <td>0.002130</td>\n",
              "    </tr>\n",
              "    <tr>\n",
              "      <th>week</th>\n",
              "      <td>0.002225</td>\n",
              "      <td>1.000000</td>\n",
              "      <td>0.005905</td>\n",
              "      <td>-0.020662</td>\n",
              "      <td>0.026581</td>\n",
              "      <td>0.028614</td>\n",
              "      <td>-0.000841</td>\n",
              "      <td>-0.008263</td>\n",
              "      <td>-0.017210</td>\n",
              "      <td>-0.017437</td>\n",
              "      <td>-0.017744</td>\n",
              "      <td>-0.026238</td>\n",
              "      <td>-0.008359</td>\n",
              "      <td>0.002979</td>\n",
              "      <td>-0.003190</td>\n",
              "      <td>-0.000049</td>\n",
              "      <td>0.002257</td>\n",
              "      <td>0.999640</td>\n",
              "      <td>0.940404</td>\n",
              "      <td>0.995927</td>\n",
              "    </tr>\n",
              "    <tr>\n",
              "      <th>center_id</th>\n",
              "      <td>-0.000403</td>\n",
              "      <td>0.005905</td>\n",
              "      <td>1.000000</td>\n",
              "      <td>-0.106699</td>\n",
              "      <td>0.012438</td>\n",
              "      <td>0.012048</td>\n",
              "      <td>-0.037194</td>\n",
              "      <td>0.041993</td>\n",
              "      <td>0.225584</td>\n",
              "      <td>0.005560</td>\n",
              "      <td>0.005237</td>\n",
              "      <td>-0.107388</td>\n",
              "      <td>-0.004182</td>\n",
              "      <td>0.482053</td>\n",
              "      <td>0.252361</td>\n",
              "      <td>0.260791</td>\n",
              "      <td>0.148410</td>\n",
              "      <td>0.005904</td>\n",
              "      <td>0.005100</td>\n",
              "      <td>0.005871</td>\n",
              "    </tr>\n",
              "    <tr>\n",
              "      <th>meal_id</th>\n",
              "      <td>-0.001303</td>\n",
              "      <td>-0.020662</td>\n",
              "      <td>-0.106699</td>\n",
              "      <td>1.000000</td>\n",
              "      <td>-0.360247</td>\n",
              "      <td>-0.365208</td>\n",
              "      <td>0.061692</td>\n",
              "      <td>0.070441</td>\n",
              "      <td>0.476058</td>\n",
              "      <td>-0.043672</td>\n",
              "      <td>-0.009682</td>\n",
              "      <td>0.788383</td>\n",
              "      <td>0.279578</td>\n",
              "      <td>-0.047697</td>\n",
              "      <td>-0.027083</td>\n",
              "      <td>-0.050557</td>\n",
              "      <td>-0.038960</td>\n",
              "      <td>-0.020680</td>\n",
              "      <td>-0.022723</td>\n",
              "      <td>-0.020992</td>\n",
              "    </tr>\n",
              "    <tr>\n",
              "      <th>checkout_price</th>\n",
              "      <td>0.001941</td>\n",
              "      <td>0.026581</td>\n",
              "      <td>0.012438</td>\n",
              "      <td>-0.360247</td>\n",
              "      <td>1.000000</td>\n",
              "      <td>0.953389</td>\n",
              "      <td>0.004818</td>\n",
              "      <td>-0.057184</td>\n",
              "      <td>-0.282108</td>\n",
              "      <td>-0.185213</td>\n",
              "      <td>-0.103340</td>\n",
              "      <td>-0.494660</td>\n",
              "      <td>-0.574149</td>\n",
              "      <td>-0.003720</td>\n",
              "      <td>-0.005415</td>\n",
              "      <td>0.015923</td>\n",
              "      <td>0.007062</td>\n",
              "      <td>0.026652</td>\n",
              "      <td>0.027494</td>\n",
              "      <td>0.026615</td>\n",
              "    </tr>\n",
              "    <tr>\n",
              "      <th>base_price</th>\n",
              "      <td>0.002909</td>\n",
              "      <td>0.028614</td>\n",
              "      <td>0.012048</td>\n",
              "      <td>-0.365208</td>\n",
              "      <td>0.953389</td>\n",
              "      <td>1.000000</td>\n",
              "      <td>0.171173</td>\n",
              "      <td>0.057156</td>\n",
              "      <td>-0.222306</td>\n",
              "      <td>0.090994</td>\n",
              "      <td>0.043064</td>\n",
              "      <td>-0.493697</td>\n",
              "      <td>-0.607112</td>\n",
              "      <td>-0.001691</td>\n",
              "      <td>-0.003867</td>\n",
              "      <td>0.013596</td>\n",
              "      <td>0.005894</td>\n",
              "      <td>0.028598</td>\n",
              "      <td>0.029464</td>\n",
              "      <td>0.028580</td>\n",
              "    </tr>\n",
              "    <tr>\n",
              "      <th>emailer_for_promotion</th>\n",
              "      <td>0.002001</td>\n",
              "      <td>-0.000841</td>\n",
              "      <td>-0.037194</td>\n",
              "      <td>0.061692</td>\n",
              "      <td>0.004818</td>\n",
              "      <td>0.171173</td>\n",
              "      <td>1.000000</td>\n",
              "      <td>0.390534</td>\n",
              "      <td>0.277147</td>\n",
              "      <td>0.477564</td>\n",
              "      <td>0.276454</td>\n",
              "      <td>0.025436</td>\n",
              "      <td>-0.099813</td>\n",
              "      <td>-0.028912</td>\n",
              "      <td>-0.017072</td>\n",
              "      <td>-0.006194</td>\n",
              "      <td>-0.003181</td>\n",
              "      <td>-0.000605</td>\n",
              "      <td>0.004931</td>\n",
              "      <td>-0.001216</td>\n",
              "    </tr>\n",
              "    <tr>\n",
              "      <th>homepage_featured</th>\n",
              "      <td>0.003111</td>\n",
              "      <td>-0.008263</td>\n",
              "      <td>0.041993</td>\n",
              "      <td>0.070441</td>\n",
              "      <td>-0.057184</td>\n",
              "      <td>0.057156</td>\n",
              "      <td>0.390534</td>\n",
              "      <td>1.000000</td>\n",
              "      <td>0.294490</td>\n",
              "      <td>0.338011</td>\n",
              "      <td>0.213979</td>\n",
              "      <td>0.044645</td>\n",
              "      <td>-0.050463</td>\n",
              "      <td>-0.001370</td>\n",
              "      <td>0.007142</td>\n",
              "      <td>0.030041</td>\n",
              "      <td>0.032506</td>\n",
              "      <td>-0.008308</td>\n",
              "      <td>0.006089</td>\n",
              "      <td>-0.007722</td>\n",
              "    </tr>\n",
              "    <tr>\n",
              "      <th>num_orders</th>\n",
              "      <td>0.000702</td>\n",
              "      <td>-0.017210</td>\n",
              "      <td>0.225584</td>\n",
              "      <td>0.476058</td>\n",
              "      <td>-0.282108</td>\n",
              "      <td>-0.222306</td>\n",
              "      <td>0.277147</td>\n",
              "      <td>0.294490</td>\n",
              "      <td>1.000000</td>\n",
              "      <td>0.205188</td>\n",
              "      <td>0.111766</td>\n",
              "      <td>0.330068</td>\n",
              "      <td>0.177768</td>\n",
              "      <td>0.112445</td>\n",
              "      <td>0.067001</td>\n",
              "      <td>0.038199</td>\n",
              "      <td>0.018651</td>\n",
              "      <td>-0.017024</td>\n",
              "      <td>-0.013514</td>\n",
              "      <td>-0.017029</td>\n",
              "    </tr>\n",
              "    <tr>\n",
              "      <th>discount_percent</th>\n",
              "      <td>0.002910</td>\n",
              "      <td>-0.017437</td>\n",
              "      <td>0.005560</td>\n",
              "      <td>-0.043672</td>\n",
              "      <td>-0.185213</td>\n",
              "      <td>0.090994</td>\n",
              "      <td>0.477564</td>\n",
              "      <td>0.338011</td>\n",
              "      <td>0.205188</td>\n",
              "      <td>1.000000</td>\n",
              "      <td>0.531243</td>\n",
              "      <td>0.006040</td>\n",
              "      <td>-0.084970</td>\n",
              "      <td>0.011625</td>\n",
              "      <td>0.009085</td>\n",
              "      <td>-0.005679</td>\n",
              "      <td>-0.004185</td>\n",
              "      <td>-0.017539</td>\n",
              "      <td>-0.015799</td>\n",
              "      <td>-0.017332</td>\n",
              "    </tr>\n",
              "    <tr>\n",
              "      <th>discount y/n</th>\n",
              "      <td>0.001773</td>\n",
              "      <td>-0.017744</td>\n",
              "      <td>0.005237</td>\n",
              "      <td>-0.009682</td>\n",
              "      <td>-0.103340</td>\n",
              "      <td>0.043064</td>\n",
              "      <td>0.276454</td>\n",
              "      <td>0.213979</td>\n",
              "      <td>0.111766</td>\n",
              "      <td>0.531243</td>\n",
              "      <td>1.000000</td>\n",
              "      <td>-0.003269</td>\n",
              "      <td>-0.024147</td>\n",
              "      <td>0.009376</td>\n",
              "      <td>0.007852</td>\n",
              "      <td>-0.001167</td>\n",
              "      <td>-0.002790</td>\n",
              "      <td>-0.017753</td>\n",
              "      <td>-0.014982</td>\n",
              "      <td>-0.017734</td>\n",
              "    </tr>\n",
              "    <tr>\n",
              "      <th>category</th>\n",
              "      <td>-0.000827</td>\n",
              "      <td>-0.026238</td>\n",
              "      <td>-0.107388</td>\n",
              "      <td>0.788383</td>\n",
              "      <td>-0.494660</td>\n",
              "      <td>-0.493697</td>\n",
              "      <td>0.025436</td>\n",
              "      <td>0.044645</td>\n",
              "      <td>0.330068</td>\n",
              "      <td>0.006040</td>\n",
              "      <td>-0.003269</td>\n",
              "      <td>1.000000</td>\n",
              "      <td>0.100141</td>\n",
              "      <td>-0.054271</td>\n",
              "      <td>-0.032477</td>\n",
              "      <td>-0.047347</td>\n",
              "      <td>-0.032481</td>\n",
              "      <td>-0.026229</td>\n",
              "      <td>-0.027586</td>\n",
              "      <td>-0.026466</td>\n",
              "    </tr>\n",
              "    <tr>\n",
              "      <th>cuisine</th>\n",
              "      <td>-0.001250</td>\n",
              "      <td>-0.008359</td>\n",
              "      <td>-0.004182</td>\n",
              "      <td>0.279578</td>\n",
              "      <td>-0.574149</td>\n",
              "      <td>-0.607112</td>\n",
              "      <td>-0.099813</td>\n",
              "      <td>-0.050463</td>\n",
              "      <td>0.177768</td>\n",
              "      <td>-0.084970</td>\n",
              "      <td>-0.024147</td>\n",
              "      <td>0.100141</td>\n",
              "      <td>1.000000</td>\n",
              "      <td>0.008018</td>\n",
              "      <td>0.008671</td>\n",
              "      <td>-0.012591</td>\n",
              "      <td>-0.008894</td>\n",
              "      <td>-0.008359</td>\n",
              "      <td>-0.011135</td>\n",
              "      <td>-0.008607</td>\n",
              "    </tr>\n",
              "    <tr>\n",
              "      <th>city_code</th>\n",
              "      <td>0.002737</td>\n",
              "      <td>0.002979</td>\n",
              "      <td>0.482053</td>\n",
              "      <td>-0.047697</td>\n",
              "      <td>-0.003720</td>\n",
              "      <td>-0.001691</td>\n",
              "      <td>-0.028912</td>\n",
              "      <td>-0.001370</td>\n",
              "      <td>0.112445</td>\n",
              "      <td>0.011625</td>\n",
              "      <td>0.009376</td>\n",
              "      <td>-0.054271</td>\n",
              "      <td>0.008018</td>\n",
              "      <td>1.000000</td>\n",
              "      <td>0.429123</td>\n",
              "      <td>-0.036250</td>\n",
              "      <td>0.022280</td>\n",
              "      <td>0.002981</td>\n",
              "      <td>0.002451</td>\n",
              "      <td>0.002988</td>\n",
              "    </tr>\n",
              "    <tr>\n",
              "      <th>region_code</th>\n",
              "      <td>0.000232</td>\n",
              "      <td>-0.003190</td>\n",
              "      <td>0.252361</td>\n",
              "      <td>-0.027083</td>\n",
              "      <td>-0.005415</td>\n",
              "      <td>-0.003867</td>\n",
              "      <td>-0.017072</td>\n",
              "      <td>0.007142</td>\n",
              "      <td>0.067001</td>\n",
              "      <td>0.009085</td>\n",
              "      <td>0.007852</td>\n",
              "      <td>-0.032477</td>\n",
              "      <td>0.008671</td>\n",
              "      <td>0.429123</td>\n",
              "      <td>1.000000</td>\n",
              "      <td>-0.083595</td>\n",
              "      <td>-0.031985</td>\n",
              "      <td>-0.003183</td>\n",
              "      <td>-0.003143</td>\n",
              "      <td>-0.003239</td>\n",
              "    </tr>\n",
              "    <tr>\n",
              "      <th>center_type</th>\n",
              "      <td>-0.000473</td>\n",
              "      <td>-0.000049</td>\n",
              "      <td>0.260791</td>\n",
              "      <td>-0.050557</td>\n",
              "      <td>0.015923</td>\n",
              "      <td>0.013596</td>\n",
              "      <td>-0.006194</td>\n",
              "      <td>0.030041</td>\n",
              "      <td>0.038199</td>\n",
              "      <td>-0.005679</td>\n",
              "      <td>-0.001167</td>\n",
              "      <td>-0.047347</td>\n",
              "      <td>-0.012591</td>\n",
              "      <td>-0.036250</td>\n",
              "      <td>-0.083595</td>\n",
              "      <td>1.000000</td>\n",
              "      <td>0.117514</td>\n",
              "      <td>-0.000011</td>\n",
              "      <td>-0.000061</td>\n",
              "      <td>-0.000121</td>\n",
              "    </tr>\n",
              "    <tr>\n",
              "      <th>op_area</th>\n",
              "      <td>-0.000195</td>\n",
              "      <td>0.002257</td>\n",
              "      <td>0.148410</td>\n",
              "      <td>-0.038960</td>\n",
              "      <td>0.007062</td>\n",
              "      <td>0.005894</td>\n",
              "      <td>-0.003181</td>\n",
              "      <td>0.032506</td>\n",
              "      <td>0.018651</td>\n",
              "      <td>-0.004185</td>\n",
              "      <td>-0.002790</td>\n",
              "      <td>-0.032481</td>\n",
              "      <td>-0.008894</td>\n",
              "      <td>0.022280</td>\n",
              "      <td>-0.031985</td>\n",
              "      <td>0.117514</td>\n",
              "      <td>1.000000</td>\n",
              "      <td>0.002257</td>\n",
              "      <td>0.001999</td>\n",
              "      <td>0.002187</td>\n",
              "    </tr>\n",
              "    <tr>\n",
              "      <th>Month</th>\n",
              "      <td>0.002220</td>\n",
              "      <td>0.999640</td>\n",
              "      <td>0.005904</td>\n",
              "      <td>-0.020680</td>\n",
              "      <td>0.026652</td>\n",
              "      <td>0.028598</td>\n",
              "      <td>-0.000605</td>\n",
              "      <td>-0.008308</td>\n",
              "      <td>-0.017024</td>\n",
              "      <td>-0.017539</td>\n",
              "      <td>-0.017753</td>\n",
              "      <td>-0.026229</td>\n",
              "      <td>-0.008359</td>\n",
              "      <td>0.002981</td>\n",
              "      <td>-0.003183</td>\n",
              "      <td>-0.000011</td>\n",
              "      <td>0.002257</td>\n",
              "      <td>1.000000</td>\n",
              "      <td>0.940519</td>\n",
              "      <td>0.995509</td>\n",
              "    </tr>\n",
              "    <tr>\n",
              "      <th>Year</th>\n",
              "      <td>0.001454</td>\n",
              "      <td>0.940404</td>\n",
              "      <td>0.005100</td>\n",
              "      <td>-0.022723</td>\n",
              "      <td>0.027494</td>\n",
              "      <td>0.029464</td>\n",
              "      <td>0.004931</td>\n",
              "      <td>0.006089</td>\n",
              "      <td>-0.013514</td>\n",
              "      <td>-0.015799</td>\n",
              "      <td>-0.014982</td>\n",
              "      <td>-0.027586</td>\n",
              "      <td>-0.011135</td>\n",
              "      <td>0.002451</td>\n",
              "      <td>-0.003143</td>\n",
              "      <td>-0.000061</td>\n",
              "      <td>0.001999</td>\n",
              "      <td>0.940519</td>\n",
              "      <td>1.000000</td>\n",
              "      <td>0.942948</td>\n",
              "    </tr>\n",
              "    <tr>\n",
              "      <th>Quarter</th>\n",
              "      <td>0.002130</td>\n",
              "      <td>0.995927</td>\n",
              "      <td>0.005871</td>\n",
              "      <td>-0.020992</td>\n",
              "      <td>0.026615</td>\n",
              "      <td>0.028580</td>\n",
              "      <td>-0.001216</td>\n",
              "      <td>-0.007722</td>\n",
              "      <td>-0.017029</td>\n",
              "      <td>-0.017332</td>\n",
              "      <td>-0.017734</td>\n",
              "      <td>-0.026466</td>\n",
              "      <td>-0.008607</td>\n",
              "      <td>0.002988</td>\n",
              "      <td>-0.003239</td>\n",
              "      <td>-0.000121</td>\n",
              "      <td>0.002187</td>\n",
              "      <td>0.995509</td>\n",
              "      <td>0.942948</td>\n",
              "      <td>1.000000</td>\n",
              "    </tr>\n",
              "  </tbody>\n",
              "</table>\n",
              "</div>\n",
              "      <button class=\"colab-df-convert\" onclick=\"convertToInteractive('df-5ba27c5b-2076-4fb7-8082-9b9ab21cfbb7')\"\n",
              "              title=\"Convert this dataframe to an interactive table.\"\n",
              "              style=\"display:none;\">\n",
              "        \n",
              "  <svg xmlns=\"http://www.w3.org/2000/svg\" height=\"24px\"viewBox=\"0 0 24 24\"\n",
              "       width=\"24px\">\n",
              "    <path d=\"M0 0h24v24H0V0z\" fill=\"none\"/>\n",
              "    <path d=\"M18.56 5.44l.94 2.06.94-2.06 2.06-.94-2.06-.94-.94-2.06-.94 2.06-2.06.94zm-11 1L8.5 8.5l.94-2.06 2.06-.94-2.06-.94L8.5 2.5l-.94 2.06-2.06.94zm10 10l.94 2.06.94-2.06 2.06-.94-2.06-.94-.94-2.06-.94 2.06-2.06.94z\"/><path d=\"M17.41 7.96l-1.37-1.37c-.4-.4-.92-.59-1.43-.59-.52 0-1.04.2-1.43.59L10.3 9.45l-7.72 7.72c-.78.78-.78 2.05 0 2.83L4 21.41c.39.39.9.59 1.41.59.51 0 1.02-.2 1.41-.59l7.78-7.78 2.81-2.81c.8-.78.8-2.07 0-2.86zM5.41 20L4 18.59l7.72-7.72 1.47 1.35L5.41 20z\"/>\n",
              "  </svg>\n",
              "      </button>\n",
              "      \n",
              "  <style>\n",
              "    .colab-df-container {\n",
              "      display:flex;\n",
              "      flex-wrap:wrap;\n",
              "      gap: 12px;\n",
              "    }\n",
              "\n",
              "    .colab-df-convert {\n",
              "      background-color: #E8F0FE;\n",
              "      border: none;\n",
              "      border-radius: 50%;\n",
              "      cursor: pointer;\n",
              "      display: none;\n",
              "      fill: #1967D2;\n",
              "      height: 32px;\n",
              "      padding: 0 0 0 0;\n",
              "      width: 32px;\n",
              "    }\n",
              "\n",
              "    .colab-df-convert:hover {\n",
              "      background-color: #E2EBFA;\n",
              "      box-shadow: 0px 1px 2px rgba(60, 64, 67, 0.3), 0px 1px 3px 1px rgba(60, 64, 67, 0.15);\n",
              "      fill: #174EA6;\n",
              "    }\n",
              "\n",
              "    [theme=dark] .colab-df-convert {\n",
              "      background-color: #3B4455;\n",
              "      fill: #D2E3FC;\n",
              "    }\n",
              "\n",
              "    [theme=dark] .colab-df-convert:hover {\n",
              "      background-color: #434B5C;\n",
              "      box-shadow: 0px 1px 3px 1px rgba(0, 0, 0, 0.15);\n",
              "      filter: drop-shadow(0px 1px 2px rgba(0, 0, 0, 0.3));\n",
              "      fill: #FFFFFF;\n",
              "    }\n",
              "  </style>\n",
              "\n",
              "      <script>\n",
              "        const buttonEl =\n",
              "          document.querySelector('#df-5ba27c5b-2076-4fb7-8082-9b9ab21cfbb7 button.colab-df-convert');\n",
              "        buttonEl.style.display =\n",
              "          google.colab.kernel.accessAllowed ? 'block' : 'none';\n",
              "\n",
              "        async function convertToInteractive(key) {\n",
              "          const element = document.querySelector('#df-5ba27c5b-2076-4fb7-8082-9b9ab21cfbb7');\n",
              "          const dataTable =\n",
              "            await google.colab.kernel.invokeFunction('convertToInteractive',\n",
              "                                                     [key], {});\n",
              "          if (!dataTable) return;\n",
              "\n",
              "          const docLinkHtml = 'Like what you see? Visit the ' +\n",
              "            '<a target=\"_blank\" href=https://colab.research.google.com/notebooks/data_table.ipynb>data table notebook</a>'\n",
              "            + ' to learn more about interactive tables.';\n",
              "          element.innerHTML = '';\n",
              "          dataTable['output_type'] = 'display_data';\n",
              "          await google.colab.output.renderOutput(dataTable, element);\n",
              "          const docLink = document.createElement('div');\n",
              "          docLink.innerHTML = docLinkHtml;\n",
              "          element.appendChild(docLink);\n",
              "        }\n",
              "      </script>\n",
              "    </div>\n",
              "  </div>\n",
              "  "
            ],
            "text/plain": [
              "                             id      week  ...      Year   Quarter\n",
              "id                     1.000000  0.002225  ...  0.001454  0.002130\n",
              "week                   0.002225  1.000000  ...  0.940404  0.995927\n",
              "center_id             -0.000403  0.005905  ...  0.005100  0.005871\n",
              "meal_id               -0.001303 -0.020662  ... -0.022723 -0.020992\n",
              "checkout_price         0.001941  0.026581  ...  0.027494  0.026615\n",
              "base_price             0.002909  0.028614  ...  0.029464  0.028580\n",
              "emailer_for_promotion  0.002001 -0.000841  ...  0.004931 -0.001216\n",
              "homepage_featured      0.003111 -0.008263  ...  0.006089 -0.007722\n",
              "num_orders             0.000702 -0.017210  ... -0.013514 -0.017029\n",
              "discount_percent       0.002910 -0.017437  ... -0.015799 -0.017332\n",
              "discount y/n           0.001773 -0.017744  ... -0.014982 -0.017734\n",
              "category              -0.000827 -0.026238  ... -0.027586 -0.026466\n",
              "cuisine               -0.001250 -0.008359  ... -0.011135 -0.008607\n",
              "city_code              0.002737  0.002979  ...  0.002451  0.002988\n",
              "region_code            0.000232 -0.003190  ... -0.003143 -0.003239\n",
              "center_type           -0.000473 -0.000049  ... -0.000061 -0.000121\n",
              "op_area               -0.000195  0.002257  ...  0.001999  0.002187\n",
              "Month                  0.002220  0.999640  ...  0.940519  0.995509\n",
              "Year                   0.001454  0.940404  ...  1.000000  0.942948\n",
              "Quarter                0.002130  0.995927  ...  0.942948  1.000000\n",
              "\n",
              "[20 rows x 20 columns]"
            ]
          },
          "metadata": {},
          "execution_count": 297
        }
      ]
    },
    {
      "cell_type": "markdown",
      "source": [
        "## Random forest regressor"
      ],
      "metadata": {
        "id": "RYRM947S_pJu"
      }
    },
    {
      "cell_type": "code",
      "execution_count": 218,
      "metadata": {
        "id": "nJC0Gos44sUP"
      },
      "outputs": [],
      "source": [
        "rdf = RandomForestRegressor(n_estimators=200, max_depth=15, max_features=17)"
      ]
    },
    {
      "cell_type": "code",
      "execution_count": 220,
      "metadata": {
        "colab": {
          "base_uri": "https://localhost:8080/"
        },
        "id": "ZQ6GPVSv41XV",
        "outputId": "6ca2c354-e434-48ca-e60c-eabaa048da48"
      },
      "outputs": [
        {
          "output_type": "execute_result",
          "data": {
            "text/plain": [
              "RandomForestRegressor(max_depth=15, max_features=17, n_estimators=200)"
            ]
          },
          "metadata": {},
          "execution_count": 220
        }
      ],
      "source": [
        "rdf.fit(X_total_drop, y_total_log_transform)"
      ]
    },
    {
      "cell_type": "code",
      "execution_count": 221,
      "metadata": {
        "id": "_w0ntmD045wk"
      },
      "outputs": [],
      "source": [
        "prediction_rdf = rdf.predict(X_test_drop)"
      ]
    },
    {
      "cell_type": "code",
      "execution_count": 222,
      "metadata": {
        "colab": {
          "base_uri": "https://localhost:8080/"
        },
        "id": "YzrsFeUk5Zgt",
        "outputId": "83eda3f6-ed99-4326-ddd2-d7bb419ccbdb"
      },
      "outputs": [
        {
          "output_type": "execute_result",
          "data": {
            "text/plain": [
              "0.08481545637981451"
            ]
          },
          "metadata": {},
          "execution_count": 222
        }
      ],
      "source": [
        "root_mean_squared_log_error(y_test_log_transform, prediction_rdf)"
      ]
    },
    {
      "cell_type": "markdown",
      "metadata": {
        "id": "0I6TTIsKvMil"
      },
      "source": [
        "## XGBoost Regressor"
      ]
    },
    {
      "cell_type": "code",
      "execution_count": 227,
      "metadata": {
        "id": "5BjSSg8QvOwL"
      },
      "outputs": [],
      "source": [
        "xg_reg = xgb.XGBRegressor(objective='reg:squarederror', colsample_bytree=0.8, learning_rate=0.5,\n",
        "                          max_depth=9, alpha=5, n_estimators=100)"
      ]
    },
    {
      "cell_type": "code",
      "source": [
        "xg_reg.fit(X_total_drop, y_total_log_transform)"
      ],
      "metadata": {
        "colab": {
          "base_uri": "https://localhost:8080/"
        },
        "id": "PYaRosPRtIZb",
        "outputId": "b8c8eaef-8a30-428c-a2d4-018fc1fc0414"
      },
      "execution_count": 228,
      "outputs": [
        {
          "output_type": "execute_result",
          "data": {
            "text/plain": [
              "XGBRegressor(alpha=5, colsample_bytree=0.8, learning_rate=0.5, max_depth=9,\n",
              "             objective='reg:squarederror')"
            ]
          },
          "metadata": {},
          "execution_count": 228
        }
      ]
    },
    {
      "cell_type": "code",
      "source": [
        "prediction_xgb = xg_reg.predict(X_test_drop)"
      ],
      "metadata": {
        "id": "isJUt0udtTaw"
      },
      "execution_count": 229,
      "outputs": []
    },
    {
      "cell_type": "code",
      "source": [
        "root_mean_squared_log_error(y_test_log_transform, prediction_xgb)"
      ],
      "metadata": {
        "colab": {
          "base_uri": "https://localhost:8080/"
        },
        "id": "Rb1GJj3etc5h",
        "outputId": "30a4810a-381e-4340-af08-52ae14f57f45"
      },
      "execution_count": 230,
      "outputs": [
        {
          "output_type": "execute_result",
          "data": {
            "text/plain": [
              "0.07913746700386513"
            ]
          },
          "metadata": {},
          "execution_count": 230
        }
      ]
    },
    {
      "cell_type": "markdown",
      "source": [
        "## Cat Boot Regressor"
      ],
      "metadata": {
        "id": "L-v9SG7CVt3C"
      }
    },
    {
      "cell_type": "code",
      "source": [
        "catbst = CatBoostRegressor(learning_rate=0.1,loss_function='RMSE',max_depth=9,verbose=False,)"
      ],
      "metadata": {
        "id": "oSn7P3YwVwc0"
      },
      "execution_count": 298,
      "outputs": []
    },
    {
      "cell_type": "code",
      "source": [
        "catbst.fit(X_total_drop, y_total_log_transform)"
      ],
      "metadata": {
        "colab": {
          "base_uri": "https://localhost:8080/"
        },
        "id": "x0d9D9L3rwf-",
        "outputId": "f22e831d-b79d-4750-82bb-e01edbcb9c3a"
      },
      "execution_count": 299,
      "outputs": [
        {
          "output_type": "execute_result",
          "data": {
            "text/plain": [
              "<catboost.core.CatBoostRegressor at 0x7f8439153990>"
            ]
          },
          "metadata": {},
          "execution_count": 299
        }
      ]
    },
    {
      "cell_type": "code",
      "source": [
        "catbst.fit(X_train_drop, y_train_log_transform)"
      ],
      "metadata": {
        "colab": {
          "base_uri": "https://localhost:8080/"
        },
        "id": "xCtcoynjY3eo",
        "outputId": "8ea643b6-a31e-4bd3-82c9-2a062112a688"
      },
      "execution_count": 26,
      "outputs": [
        {
          "output_type": "execute_result",
          "data": {
            "text/plain": [
              "<catboost.core.CatBoostRegressor at 0x7f843914f450>"
            ]
          },
          "metadata": {},
          "execution_count": 26
        }
      ]
    },
    {
      "cell_type": "code",
      "source": [
        "prediction_cat = catbst.predict(X_test_drop)"
      ],
      "metadata": {
        "id": "00mhek5nY7-F"
      },
      "execution_count": 300,
      "outputs": []
    },
    {
      "cell_type": "code",
      "source": [
        "root_mean_squared_log_error(y_test_log_transform, prediction_cat)"
      ],
      "metadata": {
        "colab": {
          "base_uri": "https://localhost:8080/"
        },
        "id": "_cOae7VXZK9U",
        "outputId": "ab30bbe6-6745-459d-b013-88ccce3782ad"
      },
      "execution_count": 301,
      "outputs": [
        {
          "output_type": "execute_result",
          "data": {
            "text/plain": [
              "0.08559185670633603"
            ]
          },
          "metadata": {},
          "execution_count": 301
        }
      ]
    },
    {
      "cell_type": "markdown",
      "source": [
        "0.08578689619244405"
      ],
      "metadata": {
        "id": "0bpbDeZJR0Si"
      }
    },
    {
      "cell_type": "markdown",
      "metadata": {
        "id": "O7o3y_MoN_Gg"
      },
      "source": [
        "## E. TRANSFORM THE TEST DATASET"
      ]
    },
    {
      "cell_type": "code",
      "execution_count": 302,
      "metadata": {
        "id": "WcIiE7wJkbvx"
      },
      "outputs": [],
      "source": [
        "test_merge_meal = test.merge(meal_info, how='left', left_on='meal_id', right_on='meal_id')"
      ]
    },
    {
      "cell_type": "code",
      "execution_count": 303,
      "metadata": {
        "id": "_QGbfSpROY1w"
      },
      "outputs": [],
      "source": [
        "test_merge_center = test_merge_meal.merge(fulfillment_center, how='left', left_on='center_id', right_on='center_id')"
      ]
    },
    {
      "cell_type": "code",
      "source": [
        "# city_encode = {590:4, 526:3, 638:2}\n",
        "# test_merge_center['city_code'] = test_merge_center['city_code'].map(city_encode)\n",
        "# test_merge_center['city_code'] = test_merge_center['city_code'].fillna(1)"
      ],
      "metadata": {
        "id": "6QxOvOe0X5RA"
      },
      "execution_count": 261,
      "outputs": []
    },
    {
      "cell_type": "code",
      "source": [
        "columns_encoder = ['center_id', 'meal_id', 'city_code', 'region_code', 'center_type', 'op_area', 'category', 'cuisine']\n",
        "\n",
        "for col, transform in zip(columns_encoder, transform_list):\n",
        "  test_merge_center[col] = test_merge_center[col].map(transform)"
      ],
      "metadata": {
        "id": "R_J2_AwFOxu6"
      },
      "execution_count": 304,
      "outputs": []
    },
    {
      "cell_type": "code",
      "source": [
        "test_final = test_merge_center.copy(deep=True)"
      ],
      "metadata": {
        "id": "njeL-l_cQn33"
      },
      "execution_count": 305,
      "outputs": []
    },
    {
      "cell_type": "code",
      "source": [
        "test_final['Month'] = test_final['week'].apply(lambda x: int(x / 4)+1)\n",
        "test_final['Year'] = test_final['week'].apply(lambda x: int(x / 52))\n",
        "test_final['Quarter'] = test_final['week'].apply(lambda x: int(x / 13))"
      ],
      "metadata": {
        "id": "rZpztB5FiRjj"
      },
      "execution_count": 306,
      "outputs": []
    },
    {
      "cell_type": "code",
      "source": [
        "# test_final['Month'] = test_final['Month'].apply(lambda x: convert_month(x))\n",
        "# test_final['Quarter'] = test_final['Quarter'].apply(lambda x: convert_quarter(x))"
      ],
      "metadata": {
        "id": "FSya0fztuohB"
      },
      "execution_count": 210,
      "outputs": []
    },
    {
      "cell_type": "code",
      "source": [
        "test_final_drop = test_final.drop(['week','id'], axis=1)"
      ],
      "metadata": {
        "id": "pD1uuasLU59h"
      },
      "execution_count": 307,
      "outputs": []
    },
    {
      "cell_type": "code",
      "execution_count": 308,
      "metadata": {
        "colab": {
          "base_uri": "https://localhost:8080/",
          "height": 225
        },
        "id": "ZBLSiiMFtKYq",
        "outputId": "901fa4e9-07f5-4c4b-babf-dbaa1c2bfc5e"
      },
      "outputs": [
        {
          "output_type": "execute_result",
          "data": {
            "text/html": [
              "\n",
              "  <div id=\"df-a6d7444c-d10f-47b5-811a-b96932059e0d\">\n",
              "    <div class=\"colab-df-container\">\n",
              "      <div>\n",
              "<style scoped>\n",
              "    .dataframe tbody tr th:only-of-type {\n",
              "        vertical-align: middle;\n",
              "    }\n",
              "\n",
              "    .dataframe tbody tr th {\n",
              "        vertical-align: top;\n",
              "    }\n",
              "\n",
              "    .dataframe thead th {\n",
              "        text-align: right;\n",
              "    }\n",
              "</style>\n",
              "<table border=\"1\" class=\"dataframe\">\n",
              "  <thead>\n",
              "    <tr style=\"text-align: right;\">\n",
              "      <th></th>\n",
              "      <th>center_id</th>\n",
              "      <th>meal_id</th>\n",
              "      <th>checkout_price</th>\n",
              "      <th>base_price</th>\n",
              "      <th>emailer_for_promotion</th>\n",
              "      <th>homepage_featured</th>\n",
              "      <th>discount_percent</th>\n",
              "      <th>discount y/n</th>\n",
              "      <th>category</th>\n",
              "      <th>cuisine</th>\n",
              "      <th>city_code</th>\n",
              "      <th>region_code</th>\n",
              "      <th>center_type</th>\n",
              "      <th>op_area</th>\n",
              "      <th>Month</th>\n",
              "      <th>Year</th>\n",
              "      <th>Quarter</th>\n",
              "    </tr>\n",
              "  </thead>\n",
              "  <tbody>\n",
              "    <tr>\n",
              "      <th>0</th>\n",
              "      <td>9.0</td>\n",
              "      <td>50.0</td>\n",
              "      <td>158.11</td>\n",
              "      <td>159.11</td>\n",
              "      <td>0</td>\n",
              "      <td>0</td>\n",
              "      <td>0.628496</td>\n",
              "      <td>1</td>\n",
              "      <td>14.0</td>\n",
              "      <td>3.0</td>\n",
              "      <td>46.0</td>\n",
              "      <td>8.0</td>\n",
              "      <td>1.0</td>\n",
              "      <td>6.0</td>\n",
              "      <td>37</td>\n",
              "      <td>2</td>\n",
              "      <td>11</td>\n",
              "    </tr>\n",
              "    <tr>\n",
              "      <th>1</th>\n",
              "      <td>9.0</td>\n",
              "      <td>48.0</td>\n",
              "      <td>160.11</td>\n",
              "      <td>159.11</td>\n",
              "      <td>0</td>\n",
              "      <td>0</td>\n",
              "      <td>-0.628496</td>\n",
              "      <td>0</td>\n",
              "      <td>14.0</td>\n",
              "      <td>3.0</td>\n",
              "      <td>46.0</td>\n",
              "      <td>8.0</td>\n",
              "      <td>1.0</td>\n",
              "      <td>6.0</td>\n",
              "      <td>37</td>\n",
              "      <td>2</td>\n",
              "      <td>11</td>\n",
              "    </tr>\n",
              "    <tr>\n",
              "      <th>2</th>\n",
              "      <td>9.0</td>\n",
              "      <td>36.0</td>\n",
              "      <td>157.14</td>\n",
              "      <td>159.14</td>\n",
              "      <td>0</td>\n",
              "      <td>0</td>\n",
              "      <td>1.256755</td>\n",
              "      <td>1</td>\n",
              "      <td>14.0</td>\n",
              "      <td>3.0</td>\n",
              "      <td>46.0</td>\n",
              "      <td>8.0</td>\n",
              "      <td>1.0</td>\n",
              "      <td>6.0</td>\n",
              "      <td>37</td>\n",
              "      <td>2</td>\n",
              "      <td>11</td>\n",
              "    </tr>\n",
              "  </tbody>\n",
              "</table>\n",
              "</div>\n",
              "      <button class=\"colab-df-convert\" onclick=\"convertToInteractive('df-a6d7444c-d10f-47b5-811a-b96932059e0d')\"\n",
              "              title=\"Convert this dataframe to an interactive table.\"\n",
              "              style=\"display:none;\">\n",
              "        \n",
              "  <svg xmlns=\"http://www.w3.org/2000/svg\" height=\"24px\"viewBox=\"0 0 24 24\"\n",
              "       width=\"24px\">\n",
              "    <path d=\"M0 0h24v24H0V0z\" fill=\"none\"/>\n",
              "    <path d=\"M18.56 5.44l.94 2.06.94-2.06 2.06-.94-2.06-.94-.94-2.06-.94 2.06-2.06.94zm-11 1L8.5 8.5l.94-2.06 2.06-.94-2.06-.94L8.5 2.5l-.94 2.06-2.06.94zm10 10l.94 2.06.94-2.06 2.06-.94-2.06-.94-.94-2.06-.94 2.06-2.06.94z\"/><path d=\"M17.41 7.96l-1.37-1.37c-.4-.4-.92-.59-1.43-.59-.52 0-1.04.2-1.43.59L10.3 9.45l-7.72 7.72c-.78.78-.78 2.05 0 2.83L4 21.41c.39.39.9.59 1.41.59.51 0 1.02-.2 1.41-.59l7.78-7.78 2.81-2.81c.8-.78.8-2.07 0-2.86zM5.41 20L4 18.59l7.72-7.72 1.47 1.35L5.41 20z\"/>\n",
              "  </svg>\n",
              "      </button>\n",
              "      \n",
              "  <style>\n",
              "    .colab-df-container {\n",
              "      display:flex;\n",
              "      flex-wrap:wrap;\n",
              "      gap: 12px;\n",
              "    }\n",
              "\n",
              "    .colab-df-convert {\n",
              "      background-color: #E8F0FE;\n",
              "      border: none;\n",
              "      border-radius: 50%;\n",
              "      cursor: pointer;\n",
              "      display: none;\n",
              "      fill: #1967D2;\n",
              "      height: 32px;\n",
              "      padding: 0 0 0 0;\n",
              "      width: 32px;\n",
              "    }\n",
              "\n",
              "    .colab-df-convert:hover {\n",
              "      background-color: #E2EBFA;\n",
              "      box-shadow: 0px 1px 2px rgba(60, 64, 67, 0.3), 0px 1px 3px 1px rgba(60, 64, 67, 0.15);\n",
              "      fill: #174EA6;\n",
              "    }\n",
              "\n",
              "    [theme=dark] .colab-df-convert {\n",
              "      background-color: #3B4455;\n",
              "      fill: #D2E3FC;\n",
              "    }\n",
              "\n",
              "    [theme=dark] .colab-df-convert:hover {\n",
              "      background-color: #434B5C;\n",
              "      box-shadow: 0px 1px 3px 1px rgba(0, 0, 0, 0.15);\n",
              "      filter: drop-shadow(0px 1px 2px rgba(0, 0, 0, 0.3));\n",
              "      fill: #FFFFFF;\n",
              "    }\n",
              "  </style>\n",
              "\n",
              "      <script>\n",
              "        const buttonEl =\n",
              "          document.querySelector('#df-a6d7444c-d10f-47b5-811a-b96932059e0d button.colab-df-convert');\n",
              "        buttonEl.style.display =\n",
              "          google.colab.kernel.accessAllowed ? 'block' : 'none';\n",
              "\n",
              "        async function convertToInteractive(key) {\n",
              "          const element = document.querySelector('#df-a6d7444c-d10f-47b5-811a-b96932059e0d');\n",
              "          const dataTable =\n",
              "            await google.colab.kernel.invokeFunction('convertToInteractive',\n",
              "                                                     [key], {});\n",
              "          if (!dataTable) return;\n",
              "\n",
              "          const docLinkHtml = 'Like what you see? Visit the ' +\n",
              "            '<a target=\"_blank\" href=https://colab.research.google.com/notebooks/data_table.ipynb>data table notebook</a>'\n",
              "            + ' to learn more about interactive tables.';\n",
              "          element.innerHTML = '';\n",
              "          dataTable['output_type'] = 'display_data';\n",
              "          await google.colab.output.renderOutput(dataTable, element);\n",
              "          const docLink = document.createElement('div');\n",
              "          docLink.innerHTML = docLinkHtml;\n",
              "          element.appendChild(docLink);\n",
              "        }\n",
              "      </script>\n",
              "    </div>\n",
              "  </div>\n",
              "  "
            ],
            "text/plain": [
              "   center_id  meal_id  checkout_price  ...  Month  Year  Quarter\n",
              "0        9.0     50.0          158.11  ...     37     2       11\n",
              "1        9.0     48.0          160.11  ...     37     2       11\n",
              "2        9.0     36.0          157.14  ...     37     2       11\n",
              "\n",
              "[3 rows x 17 columns]"
            ]
          },
          "metadata": {},
          "execution_count": 308
        }
      ],
      "source": [
        "test_final_drop.head(3)"
      ]
    },
    {
      "cell_type": "markdown",
      "metadata": {
        "id": "-_01frt85l8-"
      },
      "source": [
        "## Random Forest Regressor"
      ]
    },
    {
      "cell_type": "code",
      "execution_count": 223,
      "metadata": {
        "id": "dQlui8f85n_7"
      },
      "outputs": [],
      "source": [
        "prediction_rdf = rdf.predict(test_final_drop)"
      ]
    },
    {
      "cell_type": "code",
      "source": [
        "prediction_rdf_transform = np.expm1(prediction_rdf).astype('int64')"
      ],
      "metadata": {
        "id": "mLPkfKJUVHSI"
      },
      "execution_count": 224,
      "outputs": []
    },
    {
      "cell_type": "code",
      "execution_count": 225,
      "metadata": {
        "id": "g9Y-GtQ05s-6"
      },
      "outputs": [],
      "source": [
        "submission = pd.DataFrame({'id':test['id'],\n",
        "                           'num_orders':prediction_rdf_transform})"
      ]
    },
    {
      "cell_type": "code",
      "execution_count": 226,
      "metadata": {
        "id": "4ucPEsYD5wfF"
      },
      "outputs": [],
      "source": [
        "submission.to_csv('rdf_submission.csv', index=False)"
      ]
    },
    {
      "cell_type": "markdown",
      "source": [
        "## Catboost"
      ],
      "metadata": {
        "id": "8Y7nV4kZcA3k"
      }
    },
    {
      "cell_type": "code",
      "source": [
        "prediction_cat = catbst.predict(test_final_drop)"
      ],
      "metadata": {
        "id": "0823IRSzcCUS"
      },
      "execution_count": 309,
      "outputs": []
    },
    {
      "cell_type": "code",
      "source": [
        "prediction_cat_transform = np.expm1(prediction_cat).astype('int64')"
      ],
      "metadata": {
        "id": "zxhLJ1ZdcHef"
      },
      "execution_count": 310,
      "outputs": []
    },
    {
      "cell_type": "code",
      "source": [
        "submission = pd.DataFrame({'id':test['id'],\n",
        "                           'num_orders':prediction_cat_transform})"
      ],
      "metadata": {
        "id": "R2J7slPMcShU"
      },
      "execution_count": 311,
      "outputs": []
    },
    {
      "cell_type": "code",
      "source": [
        "submission.to_csv('cat_submission.csv', index=False)"
      ],
      "metadata": {
        "id": "i8w78hUxcVXi"
      },
      "execution_count": 312,
      "outputs": []
    },
    {
      "cell_type": "markdown",
      "source": [
        "## XGBOOST"
      ],
      "metadata": {
        "id": "idJmBiYGhHEl"
      }
    },
    {
      "cell_type": "code",
      "source": [
        "prediction_xgb = xg_reg.predict(test_final_drop)"
      ],
      "metadata": {
        "id": "3ecN6HTrhJdu"
      },
      "execution_count": 231,
      "outputs": []
    },
    {
      "cell_type": "code",
      "source": [
        "prediction_xgb_transform = np.expm1(prediction_xgb).astype('int64')"
      ],
      "metadata": {
        "id": "lWN8zB4ahQjl"
      },
      "execution_count": 232,
      "outputs": []
    },
    {
      "cell_type": "code",
      "source": [
        "submission = pd.DataFrame({'id':test['id'],\n",
        "                           'num_orders':prediction_xgb_transform})"
      ],
      "metadata": {
        "id": "nRjAJUV2hVVE"
      },
      "execution_count": 233,
      "outputs": []
    },
    {
      "cell_type": "code",
      "source": [
        "submission.to_csv('xgb_submission.csv', index=False)"
      ],
      "metadata": {
        "id": "yiFVt3nWhaA0"
      },
      "execution_count": 234,
      "outputs": []
    }
  ],
  "metadata": {
    "colab": {
      "name": "Food Demand.ipynb",
      "provenance": [],
      "collapsed_sections": []
    },
    "kernelspec": {
      "display_name": "Python 3",
      "name": "python3"
    },
    "language_info": {
      "name": "python"
    }
  },
  "nbformat": 4,
  "nbformat_minor": 0
}